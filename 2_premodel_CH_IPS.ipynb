{
 "cells": [
  {
   "cell_type": "code",
   "execution_count": 1,
   "id": "c64e8d35-cc9c-4587-b235-2f77939938fd",
   "metadata": {
    "jupyter": {
     "is_executing": true
    }
   },
   "outputs": [
    {
     "name": "stderr",
     "output_type": "stream",
     "text": [
      "/usr/local/lib/python3.8/dist-packages/kornia/feature/lightglue.py:30: FutureWarning: `torch.cuda.amp.custom_fwd(args...)` is deprecated. Please use `torch.amp.custom_fwd(args..., device_type='cuda')` instead.\n",
      "  @torch.cuda.amp.custom_fwd(cast_inputs=torch.float32)\n"
     ]
    }
   ],
   "source": [
    "import torchOptics.optics as tt\n",
    "import warnings\n",
    "import torch.nn as nn\n",
    "import torchOptics.metrics as tm\n",
    "import torch.nn.functional as F\n",
    "import torch.optim\n",
    "import torch\n",
    "from torch.utils.data import Dataset, DataLoader\n",
    "import os\n",
    "import glob\n",
    "import numpy as np\n",
    "import matplotlib.pyplot as plt\n",
    "import pickle\n",
    "import torchvision\n",
    "import datetime\n",
    "import tqdm\n",
    "import time\n",
    "import pandas as pd\n",
    "# import HHS.model\n",
    "\n",
    "IPS = 1024\n",
    "CH = 8\n",
    "\n",
    "warnings.filterwarnings('ignore')\n",
    "\n",
    "\n",
    "class SignFunction(torch.autograd.Function):\n",
    "    @staticmethod\n",
    "    def forward(ctx, input):\n",
    "        ctx.save_for_backward(input)\n",
    "        t = torch.Tensor([0.5]).to(input.device)  # threshold\n",
    "        output = (input > t).float() * 1\n",
    "        return output\n",
    "\n",
    "    @staticmethod\n",
    "    def backward(ctx, grad_output):\n",
    "        input, = ctx.saved_tensors\n",
    "        grad_input = grad_output * torch.ones_like(input)  # Replace with your custom gradient computation\n",
    "        return grad_input\n",
    "\n",
    "class RealSign(torch.autograd.Function):\n",
    "    @staticmethod\n",
    "    def forward(ctx, input):\n",
    "        output = torch.sign(input)\n",
    "        return output\n",
    "\n",
    "    @staticmethod\n",
    "    def backward(ctx, grad_output):\n",
    "        input, = ctx.saved_tensors\n",
    "        grad_input = grad_output * torch.ones_like(input)  # Replace with your custom gradient computation\n",
    "        return grad_input\n",
    "\n",
    "\n",
    "class Dataset512(Dataset):\n",
    "    def __init__(self, target_dir, meta, transform=None, isTrain=True, padding=0):\n",
    "        self.target_dir = target_dir\n",
    "        self.transform = transform\n",
    "        self.meta = meta\n",
    "        self.isTrain = isTrain\n",
    "        self.target_list = sorted(glob.glob(target_dir+'*.png'))\n",
    "        self.center_crop = torchvision.transforms.CenterCrop(IPS)\n",
    "        self.random_crop = torchvision.transforms.RandomCrop((IPS, IPS))\n",
    "        self.padding = padding\n",
    "\n",
    "    def __len__(self):\n",
    "        return len(self.target_list)\n",
    "\n",
    "    def __getitem__(self, idx):\n",
    "        if torch.is_tensor(idx):\n",
    "            idx = idx.tolist()\n",
    "        target = tt.imread(self.target_list[idx], meta=meta, gray=True).unsqueeze(0)\n",
    "        if target.shape[-1] < IPS or target.shape[-2] < IPS:\n",
    "            target = torchvision.transforms.Resize(IPS)(target)\n",
    "        if self.isTrain:\n",
    "            target = self.random_crop(target)\n",
    "            target = torchvision.transforms.functional.pad(target, (self.padding, self.padding, self.padding, self.padding))\n",
    "        else:\n",
    "            target = self.center_crop(target)\n",
    "            target = torchvision.transforms.functional.pad(target, (self.padding, self.padding, self.padding, self.padding))\n",
    "        return target\n",
    "\n",
    "\n",
    "def initialize_weights(m):\n",
    "    if isinstance(m, nn.Conv2d):\n",
    "        nn.init.kaiming_uniform_(m.weight.data, nonlinearity='relu')\n",
    "        if m.bias is not None:\n",
    "            nn.init.constant_(m.bias.data, 0)\n",
    "    elif isinstance(m, nn.BatchNorm2d):\n",
    "        nn.init.constant_(m.weight.data, 1)\n",
    "        nn.init.constant_(m.bias.data, 0)\n",
    "    elif isinstance(m, nn.Linear):\n",
    "        nn.init.kaiming_uniform_(m.weight.data)\n",
    "        nn.init.constant_(m.bias.data, 0)\n",
    "\n",
    "# load data\n",
    "batch_size = 1\n",
    "# target_dir = 'dataset/DIV2K/DIV2K_train_HR/'\n",
    "# valid_dir = 'dataset/DIV2K/DIV2K_valid_HR/'\n",
    "target_dir = '/nfs/dataset/DIV2K/DIV2K_train_HR/DIV2K_train_HR/'\n",
    "valid_dir = '/nfs/dataset/DIV2K/DIV2K_valid_HR/DIV2K_valid_HR/'\n",
    "# sim_dir = 'binary_dataset/simulated/'\n",
    "meta = {'wl' : (515e-9), 'dx':(7.56e-6, 7.56e-6)}\n",
    "padding = 0\n",
    "train_dataset = Dataset512(target_dir=target_dir, meta=meta, isTrain=True, padding=padding)\n",
    "valid_dataset = Dataset512(target_dir=valid_dir, meta=meta, isTrain=False, padding=padding)\n",
    "\n",
    "trainloader = DataLoader(train_dataset, batch_size=batch_size, shuffle=False)\n",
    "validloader = DataLoader(valid_dataset, batch_size=batch_size, shuffle=False)\n",
    "\n",
    "\n",
    "def initialize_weights(m):\n",
    "    if isinstance(m, nn.Conv2d):\n",
    "        nn.init.kaiming_uniform_(m.weight.data, nonlinearity='relu')\n",
    "        if m.bias is not None:\n",
    "            nn.init.constant_(m.bias.data, 0)\n",
    "    elif isinstance(m, nn.BatchNorm2d):\n",
    "        nn.init.constant_(m.weight.data, 1)\n",
    "        nn.init.constant_(m.bias.data, 0)\n",
    "    elif isinstance(m, nn.Linear):\n",
    "        nn.init.kaiming_uniform_(m.weight.data)\n",
    "        nn.init.constant_(m.bias.data, 0)\n",
    "\n",
    "\n",
    "def train(model, num_hologram=10, custom_name='fcn', epochs=100, lr=1e-4, z=2e-3):\n",
    "    date = datetime.datetime.now() - datetime.timedelta(hours=15)\n",
    "    mean_psnr_list = []\n",
    "    mean_mse_list = []\n",
    "    max_epoch = 0\n",
    "    max_psnr = 0\n",
    "    optimizer = torch.optim.Adam(model.parameters(), lr=lr)\n",
    "    sign_function = SignFunction.apply\n",
    "    # path = 'models/'\n",
    "    model_name = f'{date}_{custom_name}_{num_hologram}_{z}'\n",
    "    # make result folder\n",
    "    result_folder = 'result/'+model_name\n",
    "    os.mkdir(result_folder)\n",
    "    model_path = os.path.join(result_folder, model_name)\n",
    "    psnr_result_path = os.path.join(result_folder, 'meanPSNR.npy')\n",
    "    mse_result_path = os.path.join(result_folder, 'meanMSE.npy')\n",
    "    result = {'model_path': model_path, 'psnr_result_path': psnr_result_path,\n",
    "          'mse_result_path': mse_result_path, 'z': z,\n",
    "          'num_hologram': num_hologram, 'lr': lr, 'epochs': epochs}\n",
    "    # save result dict\n",
    "    with open(os.path.join(result_folder, 'result_dict.pickle'), 'wb') as fw:\n",
    "        pickle.dump(result, fw)\n",
    "    for epoch in range(epochs):\n",
    "        pbar = tqdm.tqdm(trainloader)\n",
    "        model.train()\n",
    "        for target in pbar:\n",
    "            out = model(target)\n",
    "            binary = sign_function(out)\n",
    "            sim = tt.simulate(binary, z).abs()**2\n",
    "            result = torch.mean(sim, dim=1, keepdim=True)\n",
    "            loss = tt.relativeLoss(result, target, F.mse_loss)\n",
    "            optimizer.zero_grad()\n",
    "            loss.backward()\n",
    "            optimizer.step()\n",
    "        model.eval()\n",
    "        with torch.no_grad():\n",
    "            psnrList = []\n",
    "            mseList = []\n",
    "            for valid in validloader:\n",
    "                out = model(valid)\n",
    "                binary = sign_function(out)\n",
    "                sim = tt.simulate(binary, z).abs()**2\n",
    "                result = torch.mean(sim, dim=1, keepdim=True)\n",
    "                psnr = tt.relativeLoss(result, valid, tm.get_PSNR)\n",
    "                psnrList.append(psnr)\n",
    "                mse = tt.relativeLoss(result, valid, F.mse_loss).detach().cpu().numpy()\n",
    "                mseList.append(mse)\n",
    "            mean_psnr = sum(psnrList)/len(psnrList)\n",
    "            mean_mse = sum(mseList)/len(mseList)\n",
    "            mean_psnr_list.append(mean_psnr)\n",
    "            mean_mse_list.append(mean_mse)\n",
    "            # save psnr and mse\n",
    "            np.save(psnr_result_path, mean_psnr_list)\n",
    "            np.save(mse_result_path, mean_mse_list)\n",
    "            plt.plot(np.arange(len(mean_psnr_list)), mean_psnr_list,\n",
    "                     label=f'max psnr: {max(mean_psnr_list)}')\n",
    "            plt.title(model_name+'_psnr')\n",
    "            plt.legend()\n",
    "            plt.savefig(os.path.join(result_folder, 'meanPSNR.png'))\n",
    "            plt.clf()\n",
    "            plt.plot(np.arange(len(mean_mse_list)), mean_mse_list,\n",
    "                     label=f'max psnr: {min(mean_mse_list)}')\n",
    "            plt.title(model_name+'_mse')\n",
    "            plt.legend()\n",
    "            plt.savefig(os.path.join(result_folder, 'meanMSE.png'))\n",
    "            plt.clf()\n",
    "            print(f'mean PSNR : {mean_psnr} {epoch}/{epochs}')\n",
    "            print(f'mean MSE : {mean_mse} {epoch}/{epochs}')\n",
    "\n",
    "        if mean_psnr > max_psnr:\n",
    "            max_psnr = mean_psnr\n",
    "            max_epoch = epoch\n",
    "            torch.save(model.state_dict(), model_path)\n",
    "        print(f'max_psnr: {max_psnr}, epoch: {max_epoch}')\n",
    "\n",
    "\n",
    "def binary_sim(out, z=2e-3):\n",
    "    binary = SignFunction.apply(out)\n",
    "    sim = tt.simulate(binary, z).abs()**2\n",
    "    res = torch.mean(sim, dim=1, keepdim=True)\n",
    "    return binary, res\n",
    "\n",
    "\n",
    "def valid(model):\n",
    "    with torch.no_grad():\n",
    "        psnr_list = []\n",
    "        for target in validloader:\n",
    "            out = model(target)\n",
    "            binary, res = binary_sim(out)\n",
    "            psnr = tt.relativeLoss(res, target, tm.get_PSNR)\n",
    "            psnr_list.append(psnr)\n",
    "    print(sum(psnr_list)/len(psnr_list))\n",
    "\n",
    "\n",
    "def check_order(bmodel, classifier, target):\n",
    "    if len(target.shape) == 3:\n",
    "        target = target.unsqueeze(0)\n",
    "    result = []\n",
    "    with torch.no_grad():\n",
    "        out = bmodel(target)\n",
    "        binary, res = binary_sim(out)\n",
    "        for i in range(10):\n",
    "            binary_input = binary[0][i].unsqueeze(0).unsqueeze(0)\n",
    "            prop_order = classifier(binary_input)\n",
    "            result.append(torch.argmax(prop_order))\n",
    "    print(result)\n",
    "\n",
    "\n",
    "def check_order_without_model(binary, classifier):\n",
    "    with torch.no_grad():\n",
    "        result = []\n",
    "        for i in range(10):\n",
    "            binary_input = binary[0][i].unsqueeze(0).unsqueeze(0)\n",
    "            prop_order = classifier(binary_input)\n",
    "            result.append(torch.argmax(prop_order))\n",
    "    print(result)\n",
    "\n",
    "\n",
    "class SimpleCNN(nn.Module):\n",
    "    def __init__(self):\n",
    "        super(SimpleCNN, self).__init__()\n",
    "        self.conv1 = nn.Conv2d(1, 16, kernel_size=3, stride=1, padding=1)\n",
    "        self.pool1 = nn.MaxPool2d(kernel_size=2, stride=2, padding=0)\n",
    "        self.conv2 = nn.Conv2d(16, 32, kernel_size=3, stride=1, padding=1)\n",
    "        self.pool2 = nn.MaxPool2d(kernel_size=2, stride=2, padding=0)\n",
    "        self.conv3 = nn.Conv2d(32, 64, kernel_size=3, stride=1, padding=1)\n",
    "        self.pool3 = nn.MaxPool2d(kernel_size=2, stride=2, padding=0)\n",
    "        self.fc = nn.Linear(64 * 64 * 64, 10)  # 최종 분류를 위한 FC 레이어\n",
    "\n",
    "    def forward(self, x):\n",
    "        x = self.pool1(torch.relu(self.conv1(x)))\n",
    "        x = self.pool2(torch.relu(self.conv2(x)))\n",
    "        x = self.pool3(torch.relu(self.conv3(x)))\n",
    "        x = x.view(-1, 64 * 64 * 64)  # flatten\n",
    "        x = self.fc(x)\n",
    "        return x\n",
    "\n",
    "\n",
    "def rgb_binary_sim(out, z, th):\n",
    "    pixel_pitch = 7.56e-6\n",
    "    meta = {'wl' : (638e-9, 515e-9, 450e-9), 'dx':(pixel_pitch, pixel_pitch)}\n",
    "    rmeta = {'wl': (638e-9), 'dx': (pixel_pitch, pixel_pitch)}\n",
    "    gmeta = {'wl': (515e-9), 'dx': (pixel_pitch, pixel_pitch)}\n",
    "    bmeta = {'wl': (450e-9), 'dx': (pixel_pitch, pixel_pitch)}\n",
    "    sign = SignFunction.apply\n",
    "    binary = sign(out, th)\n",
    "    channel = out.shape[1]\n",
    "    rchannel = int(channel/3)\n",
    "    gchannel = int(channel*2/3)\n",
    "    red = binary[:, :rchannel, :, :]\n",
    "    green = binary[:, rchannel:gchannel, :, :]\n",
    "    blue = binary[:, gchannel:, :, :]\n",
    "    red = tt.Tensor(red, meta=rmeta)\n",
    "    green = tt.Tensor(green, meta=gmeta)\n",
    "    blue = tt.Tensor(blue, meta=bmeta)\n",
    "    rsim = tt.simulate(red, z).abs()**2\n",
    "    gsim = tt.simulate(green, z).abs()**2\n",
    "    bsim = tt.simulate(blue, z).abs()**2\n",
    "    rmean = torch.mean(rsim, dim=1, keepdim=True)\n",
    "    gmean = torch.mean(gsim, dim=1, keepdim=True)\n",
    "    bmean = torch.mean(bsim, dim=1, keepdim=True)\n",
    "    rgb = torch.cat([rmean, gmean, bmean], dim=1)\n",
    "    rgb = tt.Tensor(rgb, meta=meta)\n",
    "    binary = tt.Tensor(binary, meta=meta)\n",
    "    return binary, rgb\n",
    "\n",
    "def count_parameters(model):\n",
    "    return sum(p.numel() for p in model.parameters() if p.requires_grad)"
   ]
  },
  {
   "cell_type": "code",
   "execution_count": 2,
   "id": "c4366c7c-ce09-486c-8f92-893a53b7df47",
   "metadata": {
    "jupyter": {
     "is_executing": true
    }
   },
   "outputs": [
    {
     "name": "stdout",
     "output_type": "stream",
     "text": [
      "torch.Size([1, 8, 1024, 1024])\n"
     ]
    }
   ],
   "source": [
    "class BinaryNet(nn.Module):\n",
    "    def __init__(self, num_hologram, final='Sigmoid', in_planes=3,\n",
    "                 channels=[32, 64, 128, 256, 512, 1024, 2048, 4096],\n",
    "                 convReLU=True, convBN=True, poolReLU=True, poolBN=True,\n",
    "                 deconvReLU=True, deconvBN=True):\n",
    "        super(BinaryNet, self).__init__()\n",
    "\n",
    "        def CRB2d(in_channels, out_channels, kernel_size=3, stride=1, padding=1, bias=True, relu=True, bn=True):\n",
    "            layers = []\n",
    "            layers += [nn.Conv2d(in_channels=in_channels, out_channels=out_channels,\n",
    "                                 kernel_size=kernel_size, stride=stride, padding=padding,\n",
    "                                 bias=bias)]\n",
    "            if relu:\n",
    "                layers += [nn.Tanh()]\n",
    "            if bn:\n",
    "                layers += [nn.BatchNorm2d(num_features=out_channels)]\n",
    "\n",
    "            cbr = nn.Sequential(*layers) # *으로 list unpacking \n",
    "\n",
    "            return cbr\n",
    "\n",
    "        def TRB2d(in_channels, out_channels, kernel_size=2, stride=2, bias=True, relu=True, bn=True):\n",
    "            layers = []\n",
    "            layers += [nn.ConvTranspose2d(in_channels=in_channels, out_channels=out_channels,\n",
    "                                          kernel_size=2, stride=2, padding=0,\n",
    "                                          bias=True)]\n",
    "            if bn:\n",
    "                layers += [nn.BatchNorm2d(num_features=out_channels)]\n",
    "            if relu:\n",
    "                layers += [nn.ReLU()]\n",
    "\n",
    "            cbr = nn.Sequential(*layers) # *으로 list unpacking \n",
    "\n",
    "            return cbr\n",
    "\n",
    "        self.enc1_1 = CRB2d(in_planes, channels[0], relu=convReLU, bn=convBN)\n",
    "        self.enc1_2 = CRB2d(channels[0], channels[0], relu=convReLU, bn=convBN)\n",
    "        self.pool1 = CRB2d(channels[0], channels[0], stride=2, relu=poolReLU, bn=poolBN)\n",
    "\n",
    "        self.enc2_1 = CRB2d(channels[0], channels[1], relu=convReLU, bn=convBN)\n",
    "        self.enc2_2 = CRB2d(channels[1], channels[1], relu=convReLU, bn=convBN)\n",
    "        self.pool2 = CRB2d(channels[1], channels[1], stride=2, relu=poolReLU, bn=poolBN)\n",
    "\n",
    "        self.enc3_1 = CRB2d(channels[1], channels[2], relu=convReLU, bn=convBN)\n",
    "        self.enc3_2 = CRB2d(channels[2], channels[2], relu=convReLU, bn=convBN)\n",
    "        self.pool3 = CRB2d(channels[2], channels[2], stride=2, relu=poolReLU, bn=poolBN)\n",
    "\n",
    "        self.enc4_1 = CRB2d(channels[2], channels[3], relu=convReLU, bn=convBN)\n",
    "        self.enc4_2 = CRB2d(channels[3], channels[3], relu=convReLU, bn=convBN)\n",
    "        self.pool4 = CRB2d(channels[3], channels[3], stride=2, relu=poolReLU, bn=poolBN)\n",
    "\n",
    "        self.enc5_1 = CRB2d(channels[3], channels[4], relu=convReLU, bn=convBN)\n",
    "        self.enc5_2 = CRB2d(channels[4], channels[4], relu=convReLU, bn=convBN)\n",
    "\n",
    "        self.deconv4 = TRB2d(channels[4], channels[3], relu=deconvReLU, bn=deconvBN, stride=2)\n",
    "        self.dec4_1 = CRB2d(channels[4], channels[3], relu=convReLU, bn=convBN)\n",
    "        self.dec4_2 = CRB2d(channels[3], channels[3], relu=convReLU, bn=convBN)\n",
    "\n",
    "        self.deconv3 = TRB2d(channels[3], channels[2], relu=deconvReLU, bn=deconvBN, stride=2)\n",
    "        self.dec3_1 = CRB2d(channels[3], channels[2], relu=convReLU, bn=convBN)\n",
    "        self.dec3_2 = CRB2d(channels[2], channels[2], relu=convReLU, bn=convBN)\n",
    "\n",
    "        self.deconv2 = TRB2d(channels[2], channels[1], relu=deconvReLU, bn=deconvBN, stride=2)\n",
    "        self.dec2_1 = CRB2d(channels[2], channels[1], relu=convReLU, bn=convBN)\n",
    "        self.dec2_2 = CRB2d(channels[1], channels[1], relu=convReLU, bn=convBN)\n",
    "\n",
    "        self.deconv1 = TRB2d(channels[1], channels[0], relu=deconvReLU, bn=deconvBN, stride=2)\n",
    "        self.dec1_1 = CRB2d(channels[1], channels[0], relu=convReLU, bn=convBN)\n",
    "        self.dec1_2 = CRB2d(channels[0], channels[0], relu=convReLU, bn=convBN)\n",
    "\n",
    "        self.classifier = CRB2d(channels[0], num_hologram, relu=False, bn=False)\n",
    "\n",
    "    def forward(self, x):\n",
    "        # Encoder\n",
    "        enc1_1 = self.enc1_1(x)\n",
    "        enc1_2 = self.enc1_2(enc1_1)\n",
    "        pool1 = self.pool1(enc1_2)\n",
    "\n",
    "        enc2_1 = self.enc2_1(pool1)\n",
    "        enc2_2 = self.enc2_2(enc2_1)\n",
    "        pool2 = self.pool2(enc2_2)\n",
    "\n",
    "        enc3_1 = self.enc3_1(pool2)\n",
    "        enc3_2 = self.enc3_2(enc3_1)\n",
    "        pool3 = self.pool3(enc3_2)\n",
    "\n",
    "        enc4_1 = self.enc4_1(pool3)\n",
    "        enc4_2 = self.enc4_2(enc4_1)\n",
    "        pool4 = self.pool4(enc4_2)\n",
    "\n",
    "        enc5_1 = self.enc5_1(pool4)\n",
    "        enc5_2 = self.enc5_2(enc5_1)\n",
    "\n",
    "        deconv4 = self.deconv4(enc5_2)\n",
    "        concat4 = torch.cat((deconv4, enc4_2), dim=1)\n",
    "        dec4_1 = self.dec4_1(concat4)\n",
    "        dec4_2 = self.dec4_2(dec4_1)\n",
    "\n",
    "        deconv3 = self.deconv3(dec4_2)\n",
    "        concat3 = torch.cat((deconv3, enc3_2), dim=1)\n",
    "        dec3_1 = self.dec3_1(concat3)\n",
    "        dec3_2 = self.dec3_2(dec3_1)\n",
    "\n",
    "        deconv2 = self.deconv2(dec3_2)\n",
    "        concat2 = torch.cat((deconv2, enc2_2), dim=1)\n",
    "        dec2_1 = self.dec2_1(concat2)\n",
    "        dec2_2 = self.dec2_2(dec2_1)\n",
    "\n",
    "        deconv1 = self.deconv1(dec2_2)\n",
    "        concat1 = torch.cat((deconv1, enc1_2), dim=1)\n",
    "        dec1_1 = self.dec1_1(concat1)\n",
    "        dec1_2 = self.dec1_2(dec1_1)\n",
    "\n",
    "        # Final classifier\n",
    "        out = self.classifier(dec1_2)\n",
    "        out = nn.Sigmoid()(out)\n",
    "        return out\n",
    "\n",
    "\n",
    "model = BinaryNet(num_hologram=CH, in_planes=1, convReLU=False,\n",
    "                  convBN=False, poolReLU=False, poolBN=False,\n",
    "                  deconvReLU=False, deconvBN=False).cuda()\n",
    "test = torch.randn(1, 1, IPS, IPS).cuda()\n",
    "out = model(test)\n",
    "print(out.shape)"
   ]
  },
  {
   "cell_type": "code",
   "execution_count": 3,
   "id": "47a89488-4a8c-463f-9ded-a5ade7b611bb",
   "metadata": {
    "ExecuteTime": {
     "end_time": "2024-12-06T09:06:03.212048700Z",
     "start_time": "2024-12-06T09:04:47.392583Z"
    }
   },
   "outputs": [],
   "source": [
    "def rgb_binary_train_padding(model, num_hologram=24, custom_name='0703Unet', epochs=500, lr=1e-4, z=2e-3):\n",
    "    date = datetime.datetime.now() - datetime.timedelta(hours=15)\n",
    "    model.apply(initialize_weights)\n",
    "    mean_psnr_list = []\n",
    "    mean_mse_list = []\n",
    "    max_epoch = 0\n",
    "    max_psnr = 0\n",
    "    crop = torchvision.transforms.CenterCrop(896)\n",
    "    optimizer = torch.optim.Adam(model.parameters(), lr=lr)\n",
    "    sign = SignFunction.apply\n",
    "    # path = 'models/'\n",
    "    model_name = f'{date}_{custom_name}_{num_hologram}_{z}'\n",
    "    # make result folder\n",
    "    result_folder = 'result/'+model_name\n",
    "    os.mkdir(result_folder)\n",
    "    num_parameters = count_parameters(model)\n",
    "    model_path = os.path.join(result_folder, model_name)\n",
    "    psnr_result_path = os.path.join(result_folder, 'meanPSNR.npy')\n",
    "    mse_result_path = os.path.join(result_folder, 'meanMSE.npy')\n",
    "    result = {'model_path': model_path, 'psnr_result_path': psnr_result_path,\n",
    "          'mse_result_path': mse_result_path, 'z': z,\n",
    "          'num_hologram': num_hologram, 'lr': lr, 'epochs': epochs,\n",
    "            'num_parameters': num_parameters}\n",
    "    # save result dict\n",
    "    with open(os.path.join(result_folder, 'result_dict.pickle'), 'wb') as fw:\n",
    "        pickle.dump(result, fw)\n",
    "    for epoch in range(epochs):\n",
    "        pbar = tqdm.tqdm(trainloader)\n",
    "        model.train()\n",
    "        for target in pbar:\n",
    "            target = target\n",
    "            out = model(target)\n",
    "            binary = sign(out)\n",
    "            sim = tt.simulate(binary, 2e-3).abs()**2\n",
    "            mean_sim = torch.mean(sim, dim=1, keepdim=True)\n",
    "            rgb = crop(mean_sim)\n",
    "            croped_target = crop(target)\n",
    "            loss = tt.relativeLoss(rgb, croped_target, F.mse_loss)\n",
    "            optimizer.zero_grad()\n",
    "            loss.backward()\n",
    "            optimizer.step()\n",
    "        model.eval()\n",
    "        with torch.no_grad():\n",
    "            psnrList = []\n",
    "            mseList = []\n",
    "            for idx, valid in enumerate(validloader):\n",
    "                valid = valid\n",
    "                out = model(valid)\n",
    "                binary = sign(out)\n",
    "                sim = tt.simulate(binary, 2e-3).abs()**2\n",
    "                mean_sim = torch.mean(sim, dim=1, keepdim=True)\n",
    "                rgb = crop(mean_sim)\n",
    "                croped_target = crop(valid)\n",
    "                psnr = tt.relativeLoss(rgb, croped_target, tm.get_PSNR)\n",
    "                psnrList.append(psnr)\n",
    "                mse = tt.relativeLoss(rgb, croped_target, F.mse_loss).detach().cpu().numpy()\n",
    "                mseList.append(mse)\n",
    "                if idx == 0:\n",
    "                    pl = tt.show_with_insets(rgb, croped_target, correct_colorwise=True)\n",
    "                    pl.save(os.path.join(result_folder, 'penguin.png'))\n",
    "            mean_psnr = sum(psnrList)/len(psnrList)\n",
    "            mean_mse = sum(mseList)/len(mseList)\n",
    "            mean_psnr_list.append(mean_psnr)\n",
    "            mean_mse_list.append(mean_mse)\n",
    "            # save psnr and mse\n",
    "            if epoch % 10 == 0:\n",
    "                np.save(psnr_result_path, mean_psnr_list)\n",
    "                np.save(mse_result_path, mean_mse_list)\n",
    "                plt.plot(np.arange(len(mean_psnr_list)), mean_psnr_list,\n",
    "                         label=f'max psnr: {max(mean_psnr_list)}')\n",
    "                plt.title(model_name+'_psnr')\n",
    "                plt.legend()\n",
    "                plt.savefig(os.path.join(result_folder, 'meanPSNR.png'))\n",
    "                plt.clf()\n",
    "                plt.plot(np.arange(len(mean_mse_list)), mean_mse_list,\n",
    "                         label=f'max psnr: {min(mean_mse_list)}')\n",
    "                plt.title(model_name+'_mse')\n",
    "                plt.legend()\n",
    "                plt.savefig(os.path.join(result_folder, 'meanMSE.png'))\n",
    "                plt.clf()\n",
    "            print(f'mean PSNR : {mean_psnr} {epoch}/{epochs}')\n",
    "            print(f'mean MSE : {mean_mse} {epoch}/{epochs}')\n",
    "\n",
    "        if mean_psnr > max_psnr:\n",
    "            max_psnr = mean_psnr\n",
    "            max_epoch = epoch\n",
    "            torch.save(model.state_dict(), model_path)\n",
    "        print(f'max_psnr: {max_psnr}, epoch: {max_epoch}')"
   ]
  },
  {
   "cell_type": "code",
   "execution_count": 4,
   "id": "ccd6d2b4-75ce-4139-9a0e-b2f622770f42",
   "metadata": {
    "ExecuteTime": {
     "end_time": "2024-12-06T09:06:03.214470900Z",
     "start_time": "2024-12-06T09:04:47.542936Z"
    }
   },
   "outputs": [
    {
     "name": "stderr",
     "output_type": "stream",
     "text": [
      "100%|██████████| 800/800 [00:52<00:00, 15.23it/s]\n"
     ]
    },
    {
     "name": "stdout",
     "output_type": "stream",
     "text": [
      "mean PSNR : 22.81658069610596 0/500\n",
      "mean MSE : 0.0055587810545694085 0/500\n",
      "max_psnr: 22.81658069610596, epoch: 0\n"
     ]
    },
    {
     "name": "stderr",
     "output_type": "stream",
     "text": [
      "100%|██████████| 800/800 [00:51<00:00, 15.57it/s]\n"
     ]
    },
    {
     "name": "stdout",
     "output_type": "stream",
     "text": [
      "mean PSNR : 21.670237197875977 1/500\n",
      "mean MSE : 0.0072337186918593945 1/500\n",
      "max_psnr: 22.81658069610596, epoch: 0\n"
     ]
    },
    {
     "name": "stderr",
     "output_type": "stream",
     "text": [
      "100%|██████████| 800/800 [00:51<00:00, 15.55it/s]\n"
     ]
    },
    {
     "name": "stdout",
     "output_type": "stream",
     "text": [
      "mean PSNR : 25.42415870666504 15/500\n",
      "mean MSE : 0.0031933411897625773 15/500\n",
      "max_psnr: 25.42415870666504, epoch: 15\n"
     ]
    },
    {
     "name": "stderr",
     "output_type": "stream",
     "text": [
      "100%|██████████| 800/800 [00:51<00:00, 15.57it/s]\n"
     ]
    },
    {
     "name": "stdout",
     "output_type": "stream",
     "text": [
      "mean PSNR : 25.211367816925048 16/500\n",
      "mean MSE : 0.0033057986514177175 16/500\n",
      "max_psnr: 25.42415870666504, epoch: 15\n"
     ]
    },
    {
     "name": "stderr",
     "output_type": "stream",
     "text": [
      "100%|██████████| 800/800 [00:51<00:00, 15.60it/s]\n"
     ]
    },
    {
     "name": "stdout",
     "output_type": "stream",
     "text": [
      "mean PSNR : 25.496622619628905 17/500\n",
      "mean MSE : 0.0031583408848382534 17/500\n",
      "max_psnr: 25.496622619628905, epoch: 17\n"
     ]
    },
    {
     "name": "stderr",
     "output_type": "stream",
     "text": [
      "100%|██████████| 800/800 [00:51<00:00, 15.57it/s]\n"
     ]
    },
    {
     "name": "stdout",
     "output_type": "stream",
     "text": [
      "mean PSNR : 25.551422080993653 18/500\n",
      "mean MSE : 0.0030636929778847842 18/500\n",
      "max_psnr: 25.551422080993653, epoch: 18\n"
     ]
    },
    {
     "name": "stderr",
     "output_type": "stream",
     "text": [
      "100%|██████████| 800/800 [00:51<00:00, 15.55it/s]\n"
     ]
    },
    {
     "name": "stdout",
     "output_type": "stream",
     "text": [
      "mean PSNR : 25.200543632507323 19/500\n",
      "mean MSE : 0.003317460144171491 19/500\n",
      "max_psnr: 25.551422080993653, epoch: 18\n"
     ]
    },
    {
     "name": "stderr",
     "output_type": "stream",
     "text": [
      "100%|██████████| 800/800 [00:51<00:00, 15.57it/s]\n"
     ]
    },
    {
     "name": "stdout",
     "output_type": "stream",
     "text": [
      "mean PSNR : 25.42896738052368 20/500\n",
      "mean MSE : 0.0031556541193276644 20/500\n",
      "max_psnr: 25.551422080993653, epoch: 18\n"
     ]
    },
    {
     "name": "stderr",
     "output_type": "stream",
     "text": [
      "100%|██████████| 800/800 [00:51<00:00, 15.59it/s]\n"
     ]
    },
    {
     "name": "stdout",
     "output_type": "stream",
     "text": [
      "mean PSNR : 25.45256633758545 21/500\n",
      "mean MSE : 0.00314883139799349 21/500\n",
      "max_psnr: 25.551422080993653, epoch: 18\n"
     ]
    },
    {
     "name": "stderr",
     "output_type": "stream",
     "text": [
      " 96%|█████████▌| 768/800 [00:49<00:02, 15.72it/s]IOPub message rate exceeded.\n",
      "The Jupyter server will temporarily stop sending output\n",
      "to the client in order to avoid crashing it.\n",
      "To change this limit, set the config variable\n",
      "`--ServerApp.iopub_msg_rate_limit`.\n",
      "\n",
      "Current values:\n",
      "ServerApp.iopub_msg_rate_limit=1000.0 (msgs/sec)\n",
      "ServerApp.rate_limit_window=3.0 (secs)\n",
      "\n",
      "100%|██████████| 800/800 [00:51<00:00, 15.57it/s]\n"
     ]
    },
    {
     "name": "stdout",
     "output_type": "stream",
     "text": [
      "mean PSNR : 24.567076511383057 351/500\n",
      "mean MSE : 0.0037286372587550434 351/500\n",
      "max_psnr: 26.06439317703247, epoch: 264\n"
     ]
    },
    {
     "name": "stderr",
     "output_type": "stream",
     "text": [
      "100%|██████████| 800/800 [00:51<00:00, 15.54it/s]\n"
     ]
    },
    {
     "name": "stdout",
     "output_type": "stream",
     "text": [
      "mean PSNR : 25.63066474914551 352/500\n",
      "mean MSE : 0.0029878778161946686 352/500\n",
      "max_psnr: 26.06439317703247, epoch: 264\n"
     ]
    },
    {
     "name": "stderr",
     "output_type": "stream",
     "text": [
      "100%|██████████| 800/800 [00:51<00:00, 15.60it/s]\n"
     ]
    },
    {
     "name": "stdout",
     "output_type": "stream",
     "text": [
      "mean PSNR : 25.539926204681397 353/500\n",
      "mean MSE : 0.003051755939377472 353/500\n",
      "max_psnr: 26.06439317703247, epoch: 264\n"
     ]
    },
    {
     "name": "stderr",
     "output_type": "stream",
     "text": [
      "100%|██████████| 800/800 [00:51<00:00, 15.57it/s]\n"
     ]
    },
    {
     "name": "stdout",
     "output_type": "stream",
     "text": [
      "mean PSNR : 25.603135471343993 354/500\n",
      "mean MSE : 0.0030147780454717575 354/500\n",
      "max_psnr: 26.06439317703247, epoch: 264\n"
     ]
    },
    {
     "name": "stderr",
     "output_type": "stream",
     "text": [
      "100%|██████████| 800/800 [00:51<00:00, 15.59it/s]\n"
     ]
    },
    {
     "name": "stdout",
     "output_type": "stream",
     "text": [
      "mean PSNR : 25.49263189315796 355/500\n",
      "mean MSE : 0.0030751583707751707 355/500\n",
      "max_psnr: 26.06439317703247, epoch: 264\n"
     ]
    },
    {
     "name": "stderr",
     "output_type": "stream",
     "text": [
      "100%|██████████| 800/800 [00:51<00:00, 15.59it/s]\n"
     ]
    },
    {
     "name": "stdout",
     "output_type": "stream",
     "text": [
      "mean PSNR : 25.434596576690673 356/500\n",
      "mean MSE : 0.0031125043757492675 356/500\n",
      "max_psnr: 26.06439317703247, epoch: 264\n"
     ]
    },
    {
     "name": "stderr",
     "output_type": "stream",
     "text": [
      "100%|██████████| 800/800 [00:51<00:00, 15.57it/s]\n"
     ]
    },
    {
     "name": "stdout",
     "output_type": "stream",
     "text": [
      "mean PSNR : 25.698878841400145 357/500\n",
      "mean MSE : 0.0029370045469840986 357/500\n",
      "max_psnr: 26.06439317703247, epoch: 264\n"
     ]
    },
    {
     "name": "stderr",
     "output_type": "stream",
     "text": [
      " 46%|████▌     | 364/800 [00:23<00:28, 15.11it/s]IOPub message rate exceeded.\n",
      "The Jupyter server will temporarily stop sending output\n",
      "to the client in order to avoid crashing it.\n",
      "To change this limit, set the config variable\n",
      "`--ServerApp.iopub_msg_rate_limit`.\n",
      "\n",
      "Current values:\n",
      "ServerApp.iopub_msg_rate_limit=1000.0 (msgs/sec)\n",
      "ServerApp.rate_limit_window=3.0 (secs)\n",
      "\n",
      "100%|██████████| 800/800 [00:51<00:00, 15.55it/s]\n"
     ]
    },
    {
     "name": "stdout",
     "output_type": "stream",
     "text": [
      "mean PSNR : 25.229074211120604 364/500\n",
      "mean MSE : 0.003248410096857697 364/500\n",
      "max_psnr: 26.06439317703247, epoch: 264\n"
     ]
    },
    {
     "name": "stderr",
     "output_type": "stream",
     "text": [
      "100%|██████████| 800/800 [00:51<00:00, 15.52it/s]\n"
     ]
    },
    {
     "name": "stdout",
     "output_type": "stream",
     "text": [
      "mean PSNR : 25.274718360900877 365/500\n",
      "mean MSE : 0.0032457676681224255 365/500\n",
      "max_psnr: 26.06439317703247, epoch: 264\n"
     ]
    },
    {
     "name": "stderr",
     "output_type": "stream",
     "text": [
      "100%|██████████| 800/800 [00:51<00:00, 15.55it/s]\n"
     ]
    },
    {
     "name": "stdout",
     "output_type": "stream",
     "text": [
      "mean PSNR : 24.974621963500976 366/500\n",
      "mean MSE : 0.0034063043538481 366/500\n",
      "max_psnr: 26.06439317703247, epoch: 264\n"
     ]
    },
    {
     "name": "stderr",
     "output_type": "stream",
     "text": [
      "100%|██████████| 800/800 [00:51<00:00, 15.50it/s]\n"
     ]
    },
    {
     "name": "stdout",
     "output_type": "stream",
     "text": [
      "mean PSNR : 24.984821643829346 367/500\n",
      "mean MSE : 0.0033927940996363757 367/500\n",
      "max_psnr: 26.06439317703247, epoch: 264\n"
     ]
    },
    {
     "name": "stderr",
     "output_type": "stream",
     "text": [
      "100%|██████████| 800/800 [00:51<00:00, 15.50it/s]\n"
     ]
    },
    {
     "name": "stdout",
     "output_type": "stream",
     "text": [
      "mean PSNR : 24.33100471496582 368/500\n",
      "mean MSE : 0.0038514892768580465 368/500\n",
      "max_psnr: 26.06439317703247, epoch: 264\n"
     ]
    },
    {
     "name": "stderr",
     "output_type": "stream",
     "text": [
      "100%|██████████| 800/800 [00:51<00:00, 15.59it/s]\n"
     ]
    },
    {
     "name": "stdout",
     "output_type": "stream",
     "text": [
      "mean PSNR : 24.959243335723876 369/500\n",
      "mean MSE : 0.003418365928228013 369/500\n",
      "max_psnr: 26.06439317703247, epoch: 264\n"
     ]
    },
    {
     "name": "stderr",
     "output_type": "stream",
     "text": [
      "100%|██████████| 800/800 [00:51<00:00, 15.54it/s]\n"
     ]
    },
    {
     "name": "stdout",
     "output_type": "stream",
     "text": [
      "mean PSNR : 25.32785556793213 370/500\n",
      "mean MSE : 0.0032090782519662753 370/500\n",
      "max_psnr: 26.06439317703247, epoch: 264\n"
     ]
    },
    {
     "name": "stderr",
     "output_type": "stream",
     "text": [
      "100%|██████████| 800/800 [00:51<00:00, 15.50it/s]\n"
     ]
    },
    {
     "name": "stdout",
     "output_type": "stream",
     "text": [
      "mean PSNR : 25.118787899017335 371/500\n",
      "mean MSE : 0.003371197273954749 371/500\n",
      "max_psnr: 26.06439317703247, epoch: 264\n"
     ]
    },
    {
     "name": "stderr",
     "output_type": "stream",
     "text": [
      "100%|██████████| 800/800 [00:51<00:00, 15.53it/s]\n"
     ]
    },
    {
     "name": "stdout",
     "output_type": "stream",
     "text": [
      "mean PSNR : 24.741100006103515 372/500\n",
      "mean MSE : 0.0035896848794072867 372/500\n",
      "max_psnr: 26.06439317703247, epoch: 264\n"
     ]
    },
    {
     "name": "stderr",
     "output_type": "stream",
     "text": [
      "100%|██████████| 800/800 [00:51<00:00, 15.49it/s]\n"
     ]
    },
    {
     "name": "stdout",
     "output_type": "stream",
     "text": [
      "mean PSNR : 24.93101619720459 373/500\n",
      "mean MSE : 0.0034368896088562907 373/500\n",
      "max_psnr: 26.06439317703247, epoch: 264\n"
     ]
    },
    {
     "name": "stderr",
     "output_type": "stream",
     "text": [
      "100%|██████████| 800/800 [00:51<00:00, 15.48it/s]\n"
     ]
    },
    {
     "name": "stdout",
     "output_type": "stream",
     "text": [
      "mean PSNR : 25.037002182006837 374/500\n",
      "mean MSE : 0.003365889369742945 374/500\n",
      "max_psnr: 26.06439317703247, epoch: 264\n"
     ]
    },
    {
     "name": "stderr",
     "output_type": "stream",
     "text": [
      "100%|██████████| 800/800 [00:51<00:00, 15.47it/s]\n"
     ]
    },
    {
     "name": "stdout",
     "output_type": "stream",
     "text": [
      "mean PSNR : 25.15826171875 375/500\n",
      "mean MSE : 0.0032745793438516556 375/500\n",
      "max_psnr: 26.06439317703247, epoch: 264\n"
     ]
    },
    {
     "name": "stderr",
     "output_type": "stream",
     "text": [
      "100%|██████████| 800/800 [00:51<00:00, 15.51it/s]\n"
     ]
    },
    {
     "name": "stdout",
     "output_type": "stream",
     "text": [
      "mean PSNR : 25.212085762023925 376/500\n",
      "mean MSE : 0.0032500659849029035 376/500\n",
      "max_psnr: 26.06439317703247, epoch: 264\n"
     ]
    },
    {
     "name": "stderr",
     "output_type": "stream",
     "text": [
      "100%|██████████| 800/800 [00:51<00:00, 15.49it/s]\n"
     ]
    },
    {
     "name": "stdout",
     "output_type": "stream",
     "text": [
      "mean PSNR : 25.47067050933838 377/500\n",
      "mean MSE : 0.0030913738894741984 377/500\n",
      "max_psnr: 26.06439317703247, epoch: 264\n"
     ]
    },
    {
     "name": "stderr",
     "output_type": "stream",
     "text": [
      "100%|██████████| 800/800 [00:51<00:00, 15.47it/s]\n"
     ]
    },
    {
     "name": "stdout",
     "output_type": "stream",
     "text": [
      "mean PSNR : 25.630239448547364 378/500\n",
      "mean MSE : 0.003010152163915336 378/500\n",
      "max_psnr: 26.06439317703247, epoch: 264\n"
     ]
    },
    {
     "name": "stderr",
     "output_type": "stream",
     "text": [
      "100%|██████████| 800/800 [00:51<00:00, 15.49it/s]\n"
     ]
    },
    {
     "name": "stdout",
     "output_type": "stream",
     "text": [
      "mean PSNR : 25.60356128692627 379/500\n",
      "mean MSE : 0.003033597865724005 379/500\n",
      "max_psnr: 26.06439317703247, epoch: 264\n"
     ]
    },
    {
     "name": "stderr",
     "output_type": "stream",
     "text": [
      "100%|██████████| 800/800 [00:51<00:00, 15.53it/s]\n"
     ]
    },
    {
     "name": "stdout",
     "output_type": "stream",
     "text": [
      "mean PSNR : 25.192995567321777 380/500\n",
      "mean MSE : 0.003243379060877487 380/500\n",
      "max_psnr: 26.06439317703247, epoch: 264\n"
     ]
    },
    {
     "name": "stderr",
     "output_type": "stream",
     "text": [
      "100%|██████████| 800/800 [00:51<00:00, 15.56it/s]\n"
     ]
    },
    {
     "name": "stdout",
     "output_type": "stream",
     "text": [
      "mean PSNR : 25.58726568222046 381/500\n",
      "mean MSE : 0.0030422493303194644 381/500\n",
      "max_psnr: 26.06439317703247, epoch: 264\n"
     ]
    },
    {
     "name": "stderr",
     "output_type": "stream",
     "text": [
      "100%|██████████| 800/800 [00:51<00:00, 15.54it/s]\n"
     ]
    },
    {
     "name": "stdout",
     "output_type": "stream",
     "text": [
      "mean PSNR : 25.205943202972414 382/500\n",
      "mean MSE : 0.0032293714181287213 382/500\n",
      "max_psnr: 26.06439317703247, epoch: 264\n"
     ]
    },
    {
     "name": "stderr",
     "output_type": "stream",
     "text": [
      "100%|██████████| 800/800 [00:51<00:00, 15.54it/s]\n"
     ]
    },
    {
     "name": "stdout",
     "output_type": "stream",
     "text": [
      "mean PSNR : 25.495267868041992 383/500\n",
      "mean MSE : 0.0030530628928681835 383/500\n",
      "max_psnr: 26.06439317703247, epoch: 264\n"
     ]
    },
    {
     "name": "stderr",
     "output_type": "stream",
     "text": [
      "100%|██████████| 800/800 [00:51<00:00, 15.49it/s]\n"
     ]
    },
    {
     "name": "stdout",
     "output_type": "stream",
     "text": [
      "mean PSNR : 24.972506198883057 384/500\n",
      "mean MSE : 0.0033977239415980878 384/500\n",
      "max_psnr: 26.06439317703247, epoch: 264\n"
     ]
    },
    {
     "name": "stderr",
     "output_type": "stream",
     "text": [
      "100%|██████████| 800/800 [00:51<00:00, 15.48it/s]\n"
     ]
    },
    {
     "name": "stdout",
     "output_type": "stream",
     "text": [
      "mean PSNR : 24.56971565246582 385/500\n",
      "mean MSE : 0.0037134720390895382 385/500\n",
      "max_psnr: 26.06439317703247, epoch: 264\n"
     ]
    },
    {
     "name": "stderr",
     "output_type": "stream",
     "text": [
      "100%|██████████| 800/800 [00:51<00:00, 15.51it/s]\n"
     ]
    },
    {
     "name": "stdout",
     "output_type": "stream",
     "text": [
      "mean PSNR : 24.867336463928222 386/500\n",
      "mean MSE : 0.0035053724993485955 386/500\n",
      "max_psnr: 26.06439317703247, epoch: 264\n"
     ]
    },
    {
     "name": "stderr",
     "output_type": "stream",
     "text": [
      "100%|██████████| 800/800 [00:51<00:00, 15.48it/s]\n"
     ]
    },
    {
     "name": "stdout",
     "output_type": "stream",
     "text": [
      "mean PSNR : 24.93383871078491 387/500\n",
      "mean MSE : 0.003448840818600729 387/500\n",
      "max_psnr: 26.06439317703247, epoch: 264\n"
     ]
    },
    {
     "name": "stderr",
     "output_type": "stream",
     "text": [
      "100%|██████████| 800/800 [00:51<00:00, 15.49it/s]\n"
     ]
    },
    {
     "name": "stdout",
     "output_type": "stream",
     "text": [
      "mean PSNR : 24.9675136756897 388/500\n",
      "mean MSE : 0.0033897838869597764 388/500\n",
      "max_psnr: 26.06439317703247, epoch: 264\n"
     ]
    },
    {
     "name": "stderr",
     "output_type": "stream",
     "text": [
      "100%|██████████| 800/800 [00:51<00:00, 15.51it/s]\n"
     ]
    },
    {
     "name": "stdout",
     "output_type": "stream",
     "text": [
      "mean PSNR : 24.9004744720459 389/500\n",
      "mean MSE : 0.003466175100766122 389/500\n",
      "max_psnr: 26.06439317703247, epoch: 264\n"
     ]
    },
    {
     "name": "stderr",
     "output_type": "stream",
     "text": [
      "100%|██████████| 800/800 [00:51<00:00, 15.48it/s]\n"
     ]
    },
    {
     "name": "stdout",
     "output_type": "stream",
     "text": [
      "mean PSNR : 24.76541160583496 390/500\n",
      "mean MSE : 0.0034957835439126937 390/500\n",
      "max_psnr: 26.06439317703247, epoch: 264\n"
     ]
    },
    {
     "name": "stderr",
     "output_type": "stream",
     "text": [
      "100%|██████████| 800/800 [00:51<00:00, 15.55it/s]\n"
     ]
    },
    {
     "name": "stdout",
     "output_type": "stream",
     "text": [
      "mean PSNR : 25.52624921798706 391/500\n",
      "mean MSE : 0.0030424864054657517 391/500\n",
      "max_psnr: 26.06439317703247, epoch: 264\n"
     ]
    },
    {
     "name": "stderr",
     "output_type": "stream",
     "text": [
      "100%|██████████| 800/800 [00:51<00:00, 15.50it/s]\n"
     ]
    },
    {
     "name": "stdout",
     "output_type": "stream",
     "text": [
      "mean PSNR : 24.33595775604248 392/500\n",
      "mean MSE : 0.003813735553994775 392/500\n",
      "max_psnr: 26.06439317703247, epoch: 264\n"
     ]
    },
    {
     "name": "stderr",
     "output_type": "stream",
     "text": [
      "100%|██████████| 800/800 [00:51<00:00, 15.51it/s]\n"
     ]
    },
    {
     "name": "stdout",
     "output_type": "stream",
     "text": [
      "mean PSNR : 25.178013572692873 393/500\n",
      "mean MSE : 0.0032774551486363635 393/500\n",
      "max_psnr: 26.06439317703247, epoch: 264\n"
     ]
    },
    {
     "name": "stderr",
     "output_type": "stream",
     "text": [
      "100%|██████████| 800/800 [00:51<00:00, 15.49it/s]\n"
     ]
    },
    {
     "name": "stdout",
     "output_type": "stream",
     "text": [
      "mean PSNR : 25.447124042510985 394/500\n",
      "mean MSE : 0.0031032181676710026 394/500\n",
      "max_psnr: 26.06439317703247, epoch: 264\n"
     ]
    },
    {
     "name": "stderr",
     "output_type": "stream",
     "text": [
      "100%|██████████| 800/800 [00:51<00:00, 15.48it/s]\n"
     ]
    },
    {
     "name": "stdout",
     "output_type": "stream",
     "text": [
      "mean PSNR : 24.90296787261963 395/500\n",
      "mean MSE : 0.0034156918560620396 395/500\n",
      "max_psnr: 26.06439317703247, epoch: 264\n"
     ]
    },
    {
     "name": "stderr",
     "output_type": "stream",
     "text": [
      "100%|██████████| 800/800 [00:51<00:00, 15.48it/s]\n"
     ]
    },
    {
     "name": "stdout",
     "output_type": "stream",
     "text": [
      "mean PSNR : 25.573102893829347 396/500\n",
      "mean MSE : 0.0030187476990977302 396/500\n",
      "max_psnr: 26.06439317703247, epoch: 264\n"
     ]
    },
    {
     "name": "stderr",
     "output_type": "stream",
     "text": [
      "100%|██████████| 800/800 [00:51<00:00, 15.45it/s]\n"
     ]
    },
    {
     "name": "stdout",
     "output_type": "stream",
     "text": [
      "mean PSNR : 25.112965965270995 397/500\n",
      "mean MSE : 0.0032735015300568195 397/500\n",
      "max_psnr: 26.06439317703247, epoch: 264\n"
     ]
    },
    {
     "name": "stderr",
     "output_type": "stream",
     "text": [
      "100%|██████████| 800/800 [00:51<00:00, 15.51it/s]\n"
     ]
    },
    {
     "name": "stdout",
     "output_type": "stream",
     "text": [
      "mean PSNR : 25.410344886779786 398/500\n",
      "mean MSE : 0.0031399334501475097 398/500\n",
      "max_psnr: 26.06439317703247, epoch: 264\n"
     ]
    },
    {
     "name": "stderr",
     "output_type": "stream",
     "text": [
      "100%|██████████| 800/800 [00:51<00:00, 15.53it/s]\n"
     ]
    },
    {
     "name": "stdout",
     "output_type": "stream",
     "text": [
      "mean PSNR : 25.28378204345703 399/500\n",
      "mean MSE : 0.0032398215477587654 399/500\n",
      "max_psnr: 26.06439317703247, epoch: 264\n"
     ]
    },
    {
     "name": "stderr",
     "output_type": "stream",
     "text": [
      "100%|██████████| 800/800 [00:51<00:00, 15.48it/s]\n"
     ]
    },
    {
     "name": "stdout",
     "output_type": "stream",
     "text": [
      "mean PSNR : 25.070310096740723 400/500\n",
      "mean MSE : 0.00339429299114272 400/500\n",
      "max_psnr: 26.06439317703247, epoch: 264\n"
     ]
    },
    {
     "name": "stderr",
     "output_type": "stream",
     "text": [
      "100%|██████████| 800/800 [00:51<00:00, 15.45it/s]\n"
     ]
    },
    {
     "name": "stdout",
     "output_type": "stream",
     "text": [
      "mean PSNR : 25.401585483551024 401/500\n",
      "mean MSE : 0.0031425561511423438 401/500\n",
      "max_psnr: 26.06439317703247, epoch: 264\n"
     ]
    },
    {
     "name": "stderr",
     "output_type": "stream",
     "text": [
      "100%|██████████| 800/800 [00:51<00:00, 15.45it/s]\n"
     ]
    },
    {
     "name": "stdout",
     "output_type": "stream",
     "text": [
      "mean PSNR : 24.839025688171386 402/500\n",
      "mean MSE : 0.003560072148684412 402/500\n",
      "max_psnr: 26.06439317703247, epoch: 264\n"
     ]
    },
    {
     "name": "stderr",
     "output_type": "stream",
     "text": [
      "100%|██████████| 800/800 [00:51<00:00, 15.43it/s]\n"
     ]
    },
    {
     "name": "stdout",
     "output_type": "stream",
     "text": [
      "mean PSNR : 24.87261070251465 403/500\n",
      "mean MSE : 0.0035336441185791047 403/500\n",
      "max_psnr: 26.06439317703247, epoch: 264\n"
     ]
    },
    {
     "name": "stderr",
     "output_type": "stream",
     "text": [
      "100%|██████████| 800/800 [00:51<00:00, 15.47it/s]\n"
     ]
    },
    {
     "name": "stdout",
     "output_type": "stream",
     "text": [
      "mean PSNR : 24.143796691894533 404/500\n",
      "mean MSE : 0.004080291987629607 404/500\n",
      "max_psnr: 26.06439317703247, epoch: 264\n"
     ]
    },
    {
     "name": "stderr",
     "output_type": "stream",
     "text": [
      "100%|██████████| 800/800 [00:51<00:00, 15.51it/s]\n"
     ]
    },
    {
     "name": "stdout",
     "output_type": "stream",
     "text": [
      "mean PSNR : 24.579258785247802 405/500\n",
      "mean MSE : 0.0036865989584475758 405/500\n",
      "max_psnr: 26.06439317703247, epoch: 264\n"
     ]
    },
    {
     "name": "stderr",
     "output_type": "stream",
     "text": [
      "100%|██████████| 800/800 [00:51<00:00, 15.48it/s]\n"
     ]
    },
    {
     "name": "stdout",
     "output_type": "stream",
     "text": [
      "mean PSNR : 24.693927764892578 406/500\n",
      "mean MSE : 0.0036768818029668184 406/500\n",
      "max_psnr: 26.06439317703247, epoch: 264\n"
     ]
    },
    {
     "name": "stderr",
     "output_type": "stream",
     "text": [
      "100%|██████████| 800/800 [00:51<00:00, 15.52it/s]\n"
     ]
    },
    {
     "name": "stdout",
     "output_type": "stream",
     "text": [
      "mean PSNR : 24.699600524902344 407/500\n",
      "mean MSE : 0.0036031383648514746 407/500\n",
      "max_psnr: 26.06439317703247, epoch: 264\n"
     ]
    },
    {
     "name": "stderr",
     "output_type": "stream",
     "text": [
      "100%|██████████| 800/800 [00:51<00:00, 15.55it/s]\n"
     ]
    },
    {
     "name": "stdout",
     "output_type": "stream",
     "text": [
      "mean PSNR : 25.22807819366455 408/500\n",
      "mean MSE : 0.00332926619972568 408/500\n",
      "max_psnr: 26.06439317703247, epoch: 264\n"
     ]
    },
    {
     "name": "stderr",
     "output_type": "stream",
     "text": [
      "100%|██████████| 800/800 [00:51<00:00, 15.49it/s]\n"
     ]
    },
    {
     "name": "stdout",
     "output_type": "stream",
     "text": [
      "mean PSNR : 24.423466281890867 409/500\n",
      "mean MSE : 0.0038395061902701854 409/500\n",
      "max_psnr: 26.06439317703247, epoch: 264\n"
     ]
    },
    {
     "name": "stderr",
     "output_type": "stream",
     "text": [
      "100%|██████████| 800/800 [00:51<00:00, 15.43it/s]\n"
     ]
    },
    {
     "name": "stdout",
     "output_type": "stream",
     "text": [
      "mean PSNR : 25.422402534484863 410/500\n",
      "mean MSE : 0.0031306560477241873 410/500\n",
      "max_psnr: 26.06439317703247, epoch: 264\n"
     ]
    },
    {
     "name": "stderr",
     "output_type": "stream",
     "text": [
      "100%|██████████| 800/800 [00:51<00:00, 15.51it/s]\n"
     ]
    },
    {
     "name": "stdout",
     "output_type": "stream",
     "text": [
      "mean PSNR : 25.197124366760253 411/500\n",
      "mean MSE : 0.0032560347532853483 411/500\n",
      "max_psnr: 26.06439317703247, epoch: 264\n"
     ]
    },
    {
     "name": "stderr",
     "output_type": "stream",
     "text": [
      "100%|██████████| 800/800 [00:51<00:00, 15.54it/s]\n"
     ]
    },
    {
     "name": "stdout",
     "output_type": "stream",
     "text": [
      "mean PSNR : 24.64380016326904 412/500\n",
      "mean MSE : 0.0036642722762189805 412/500\n",
      "max_psnr: 26.06439317703247, epoch: 264\n"
     ]
    },
    {
     "name": "stderr",
     "output_type": "stream",
     "text": [
      "100%|██████████| 800/800 [00:52<00:00, 15.33it/s]\n"
     ]
    },
    {
     "name": "stdout",
     "output_type": "stream",
     "text": [
      "mean PSNR : 25.605997886657715 413/500\n",
      "mean MSE : 0.003007934804772958 413/500\n",
      "max_psnr: 26.06439317703247, epoch: 264\n"
     ]
    },
    {
     "name": "stderr",
     "output_type": "stream",
     "text": [
      "100%|██████████| 800/800 [00:51<00:00, 15.44it/s]\n"
     ]
    },
    {
     "name": "stdout",
     "output_type": "stream",
     "text": [
      "mean PSNR : 25.6096000289917 414/500\n",
      "mean MSE : 0.003015433991095051 414/500\n",
      "max_psnr: 26.06439317703247, epoch: 264\n"
     ]
    },
    {
     "name": "stderr",
     "output_type": "stream",
     "text": [
      "100%|██████████| 800/800 [00:51<00:00, 15.39it/s]\n"
     ]
    },
    {
     "name": "stdout",
     "output_type": "stream",
     "text": [
      "mean PSNR : 25.456971054077147 415/500\n",
      "mean MSE : 0.0030985429632710295 415/500\n",
      "max_psnr: 26.06439317703247, epoch: 264\n"
     ]
    },
    {
     "name": "stderr",
     "output_type": "stream",
     "text": [
      "100%|██████████| 800/800 [00:51<00:00, 15.46it/s]\n"
     ]
    },
    {
     "name": "stdout",
     "output_type": "stream",
     "text": [
      "mean PSNR : 24.62374231338501 416/500\n",
      "mean MSE : 0.003634044856298715 416/500\n",
      "max_psnr: 26.06439317703247, epoch: 264\n"
     ]
    },
    {
     "name": "stderr",
     "output_type": "stream",
     "text": [
      "100%|██████████| 800/800 [00:51<00:00, 15.45it/s]\n"
     ]
    },
    {
     "name": "stdout",
     "output_type": "stream",
     "text": [
      "mean PSNR : 25.568501014709472 417/500\n",
      "mean MSE : 0.0030284265975933523 417/500\n",
      "max_psnr: 26.06439317703247, epoch: 264\n"
     ]
    },
    {
     "name": "stderr",
     "output_type": "stream",
     "text": [
      "100%|██████████| 800/800 [00:51<00:00, 15.42it/s]\n"
     ]
    },
    {
     "name": "stdout",
     "output_type": "stream",
     "text": [
      "mean PSNR : 25.163401374816896 418/500\n",
      "mean MSE : 0.0033262408600421623 418/500\n",
      "max_psnr: 26.06439317703247, epoch: 264\n"
     ]
    },
    {
     "name": "stderr",
     "output_type": "stream",
     "text": [
      "100%|██████████| 800/800 [00:51<00:00, 15.47it/s]\n"
     ]
    },
    {
     "name": "stdout",
     "output_type": "stream",
     "text": [
      "mean PSNR : 25.656374530792235 419/500\n",
      "mean MSE : 0.0029490186274051667 419/500\n",
      "max_psnr: 26.06439317703247, epoch: 264\n"
     ]
    },
    {
     "name": "stderr",
     "output_type": "stream",
     "text": [
      "100%|██████████| 800/800 [00:51<00:00, 15.46it/s]\n"
     ]
    },
    {
     "name": "stdout",
     "output_type": "stream",
     "text": [
      "mean PSNR : 25.35620101928711 420/500\n",
      "mean MSE : 0.003161165512865409 420/500\n",
      "max_psnr: 26.06439317703247, epoch: 264\n"
     ]
    },
    {
     "name": "stderr",
     "output_type": "stream",
     "text": [
      "100%|██████████| 800/800 [00:51<00:00, 15.44it/s]\n"
     ]
    },
    {
     "name": "stdout",
     "output_type": "stream",
     "text": [
      "mean PSNR : 25.512462043762206 421/500\n",
      "mean MSE : 0.00307389072549995 421/500\n",
      "max_psnr: 26.06439317703247, epoch: 264\n"
     ]
    },
    {
     "name": "stderr",
     "output_type": "stream",
     "text": [
      "100%|██████████| 800/800 [00:51<00:00, 15.48it/s]\n"
     ]
    },
    {
     "name": "stdout",
     "output_type": "stream",
     "text": [
      "mean PSNR : 25.041872005462647 422/500\n",
      "mean MSE : 0.003353947241557762 422/500\n",
      "max_psnr: 26.06439317703247, epoch: 264\n"
     ]
    },
    {
     "name": "stderr",
     "output_type": "stream",
     "text": [
      "100%|██████████| 800/800 [00:51<00:00, 15.48it/s]\n"
     ]
    },
    {
     "name": "stdout",
     "output_type": "stream",
     "text": [
      "mean PSNR : 25.695339488983155 423/500\n",
      "mean MSE : 0.002907008174806833 423/500\n",
      "max_psnr: 26.06439317703247, epoch: 264\n"
     ]
    },
    {
     "name": "stderr",
     "output_type": "stream",
     "text": [
      "100%|██████████| 800/800 [00:51<00:00, 15.44it/s]\n"
     ]
    },
    {
     "name": "stdout",
     "output_type": "stream",
     "text": [
      "mean PSNR : 25.440362720489503 424/500\n",
      "mean MSE : 0.003097084722830914 424/500\n",
      "max_psnr: 26.06439317703247, epoch: 264\n"
     ]
    },
    {
     "name": "stderr",
     "output_type": "stream",
     "text": [
      "100%|██████████| 800/800 [00:51<00:00, 15.46it/s]\n"
     ]
    },
    {
     "name": "stdout",
     "output_type": "stream",
     "text": [
      "mean PSNR : 25.71968879699707 425/500\n",
      "mean MSE : 0.0029282642778707666 425/500\n",
      "max_psnr: 26.06439317703247, epoch: 264\n"
     ]
    },
    {
     "name": "stderr",
     "output_type": "stream",
     "text": [
      "100%|██████████| 800/800 [00:51<00:00, 15.42it/s]\n"
     ]
    },
    {
     "name": "stdout",
     "output_type": "stream",
     "text": [
      "mean PSNR : 24.868009643554686 426/500\n",
      "mean MSE : 0.003452918989351019 426/500\n",
      "max_psnr: 26.06439317703247, epoch: 264\n"
     ]
    },
    {
     "name": "stderr",
     "output_type": "stream",
     "text": [
      "100%|██████████| 800/800 [00:51<00:00, 15.43it/s]\n"
     ]
    },
    {
     "name": "stdout",
     "output_type": "stream",
     "text": [
      "mean PSNR : 25.040607223510744 427/500\n",
      "mean MSE : 0.0033257421874441206 427/500\n",
      "max_psnr: 26.06439317703247, epoch: 264\n"
     ]
    },
    {
     "name": "stderr",
     "output_type": "stream",
     "text": [
      "100%|██████████| 800/800 [00:51<00:00, 15.46it/s]\n"
     ]
    },
    {
     "name": "stdout",
     "output_type": "stream",
     "text": [
      "mean PSNR : 25.32773229598999 428/500\n",
      "mean MSE : 0.0031570806331001223 428/500\n",
      "max_psnr: 26.06439317703247, epoch: 264\n"
     ]
    },
    {
     "name": "stderr",
     "output_type": "stream",
     "text": [
      "100%|██████████| 800/800 [00:51<00:00, 15.44it/s]\n"
     ]
    },
    {
     "name": "stdout",
     "output_type": "stream",
     "text": [
      "mean PSNR : 24.916000366210938 429/500\n",
      "mean MSE : 0.00343538468121551 429/500\n",
      "max_psnr: 26.06439317703247, epoch: 264\n"
     ]
    },
    {
     "name": "stderr",
     "output_type": "stream",
     "text": [
      "100%|██████████| 800/800 [00:51<00:00, 15.42it/s]\n"
     ]
    },
    {
     "name": "stdout",
     "output_type": "stream",
     "text": [
      "mean PSNR : 25.25294734954834 430/500\n",
      "mean MSE : 0.0032070984435267746 430/500\n",
      "max_psnr: 26.06439317703247, epoch: 264\n"
     ]
    },
    {
     "name": "stderr",
     "output_type": "stream",
     "text": [
      "100%|██████████| 800/800 [00:51<00:00, 15.44it/s]\n"
     ]
    },
    {
     "name": "stdout",
     "output_type": "stream",
     "text": [
      "mean PSNR : 24.887283363342284 431/500\n",
      "mean MSE : 0.003449012152850628 431/500\n",
      "max_psnr: 26.06439317703247, epoch: 264\n"
     ]
    },
    {
     "name": "stderr",
     "output_type": "stream",
     "text": [
      "100%|██████████| 800/800 [00:51<00:00, 15.45it/s]\n"
     ]
    },
    {
     "name": "stdout",
     "output_type": "stream",
     "text": [
      "mean PSNR : 25.168030242919922 432/500\n",
      "mean MSE : 0.0032820657000411303 432/500\n",
      "max_psnr: 26.06439317703247, epoch: 264\n"
     ]
    },
    {
     "name": "stderr",
     "output_type": "stream",
     "text": [
      "100%|██████████| 800/800 [00:51<00:00, 15.41it/s]\n"
     ]
    },
    {
     "name": "stdout",
     "output_type": "stream",
     "text": [
      "mean PSNR : 24.835892734527587 433/500\n",
      "mean MSE : 0.0034850333037320523 433/500\n",
      "max_psnr: 26.06439317703247, epoch: 264\n"
     ]
    },
    {
     "name": "stderr",
     "output_type": "stream",
     "text": [
      "100%|██████████| 800/800 [00:51<00:00, 15.48it/s]\n"
     ]
    },
    {
     "name": "stdout",
     "output_type": "stream",
     "text": [
      "mean PSNR : 24.880945014953614 434/500\n",
      "mean MSE : 0.0034786801680456846 434/500\n",
      "max_psnr: 26.06439317703247, epoch: 264\n"
     ]
    },
    {
     "name": "stderr",
     "output_type": "stream",
     "text": [
      "100%|██████████| 800/800 [00:52<00:00, 15.35it/s]\n"
     ]
    },
    {
     "name": "stdout",
     "output_type": "stream",
     "text": [
      "mean PSNR : 25.670610885620118 435/500\n",
      "mean MSE : 0.0030254016217077153 435/500\n",
      "max_psnr: 26.06439317703247, epoch: 264\n"
     ]
    },
    {
     "name": "stderr",
     "output_type": "stream",
     "text": [
      "100%|██████████| 800/800 [00:51<00:00, 15.45it/s]\n"
     ]
    },
    {
     "name": "stdout",
     "output_type": "stream",
     "text": [
      "mean PSNR : 25.247664737701417 436/500\n",
      "mean MSE : 0.0032435601809993387 436/500\n",
      "max_psnr: 26.06439317703247, epoch: 264\n"
     ]
    },
    {
     "name": "stderr",
     "output_type": "stream",
     "text": [
      "100%|██████████| 800/800 [00:51<00:00, 15.43it/s]\n"
     ]
    },
    {
     "name": "stdout",
     "output_type": "stream",
     "text": [
      "mean PSNR : 25.633361682891845 437/500\n",
      "mean MSE : 0.002996795795625076 437/500\n",
      "max_psnr: 26.06439317703247, epoch: 264\n"
     ]
    },
    {
     "name": "stderr",
     "output_type": "stream",
     "text": [
      "100%|██████████| 800/800 [00:51<00:00, 15.41it/s]\n"
     ]
    },
    {
     "name": "stdout",
     "output_type": "stream",
     "text": [
      "mean PSNR : 25.701972599029542 438/500\n",
      "mean MSE : 0.0029411654616706075 438/500\n",
      "max_psnr: 26.06439317703247, epoch: 264\n"
     ]
    },
    {
     "name": "stderr",
     "output_type": "stream",
     "text": [
      "100%|██████████| 800/800 [00:51<00:00, 15.43it/s]\n"
     ]
    },
    {
     "name": "stdout",
     "output_type": "stream",
     "text": [
      "mean PSNR : 25.002516193389894 439/500\n",
      "mean MSE : 0.0033614161418518054 439/500\n",
      "max_psnr: 26.06439317703247, epoch: 264\n"
     ]
    },
    {
     "name": "stderr",
     "output_type": "stream",
     "text": [
      "100%|██████████| 800/800 [00:51<00:00, 15.46it/s]\n"
     ]
    },
    {
     "name": "stdout",
     "output_type": "stream",
     "text": [
      "mean PSNR : 25.056938247680662 440/500\n",
      "mean MSE : 0.0033916723617585377 440/500\n",
      "max_psnr: 26.06439317703247, epoch: 264\n"
     ]
    },
    {
     "name": "stderr",
     "output_type": "stream",
     "text": [
      "100%|██████████| 800/800 [00:51<00:00, 15.46it/s]\n"
     ]
    },
    {
     "name": "stdout",
     "output_type": "stream",
     "text": [
      "mean PSNR : 25.129334411621095 441/500\n",
      "mean MSE : 0.003335391697473824 441/500\n",
      "max_psnr: 26.06439317703247, epoch: 264\n"
     ]
    },
    {
     "name": "stderr",
     "output_type": "stream",
     "text": [
      "100%|██████████| 800/800 [00:52<00:00, 15.31it/s]\n"
     ]
    },
    {
     "name": "stdout",
     "output_type": "stream",
     "text": [
      "mean PSNR : 25.274898014068604 442/500\n",
      "mean MSE : 0.003233376123243943 442/500\n",
      "max_psnr: 26.06439317703247, epoch: 264\n"
     ]
    },
    {
     "name": "stderr",
     "output_type": "stream",
     "text": [
      "100%|██████████| 800/800 [00:52<00:00, 15.12it/s]\n"
     ]
    },
    {
     "name": "stdout",
     "output_type": "stream",
     "text": [
      "mean PSNR : 24.765250244140624 443/500\n",
      "mean MSE : 0.003563632977893576 443/500\n",
      "max_psnr: 26.06439317703247, epoch: 264\n"
     ]
    },
    {
     "name": "stderr",
     "output_type": "stream",
     "text": [
      "100%|██████████| 800/800 [00:52<00:00, 15.15it/s]\n"
     ]
    },
    {
     "name": "stdout",
     "output_type": "stream",
     "text": [
      "mean PSNR : 25.14735080718994 444/500\n",
      "mean MSE : 0.0032574261305853723 444/500\n",
      "max_psnr: 26.06439317703247, epoch: 264\n"
     ]
    },
    {
     "name": "stderr",
     "output_type": "stream",
     "text": [
      "100%|██████████| 800/800 [00:52<00:00, 15.17it/s]\n"
     ]
    },
    {
     "name": "stdout",
     "output_type": "stream",
     "text": [
      "mean PSNR : 25.34294984817505 445/500\n",
      "mean MSE : 0.0031440950179239735 445/500\n",
      "max_psnr: 26.06439317703247, epoch: 264\n"
     ]
    },
    {
     "name": "stderr",
     "output_type": "stream",
     "text": [
      "100%|██████████| 800/800 [00:52<00:00, 15.16it/s]\n"
     ]
    },
    {
     "name": "stdout",
     "output_type": "stream",
     "text": [
      "mean PSNR : 25.51223653793335 446/500\n",
      "mean MSE : 0.003029988214257173 446/500\n",
      "max_psnr: 26.06439317703247, epoch: 264\n"
     ]
    },
    {
     "name": "stderr",
     "output_type": "stream",
     "text": [
      "100%|██████████| 800/800 [00:52<00:00, 15.38it/s]\n"
     ]
    },
    {
     "name": "stdout",
     "output_type": "stream",
     "text": [
      "mean PSNR : 25.560094089508056 447/500\n",
      "mean MSE : 0.0030047816364094614 447/500\n",
      "max_psnr: 26.06439317703247, epoch: 264\n"
     ]
    },
    {
     "name": "stderr",
     "output_type": "stream",
     "text": [
      "100%|██████████| 800/800 [00:51<00:00, 15.46it/s]\n"
     ]
    },
    {
     "name": "stdout",
     "output_type": "stream",
     "text": [
      "mean PSNR : 25.698781757354737 448/500\n",
      "mean MSE : 0.0029629162955097854 448/500\n",
      "max_psnr: 26.06439317703247, epoch: 264\n"
     ]
    },
    {
     "name": "stderr",
     "output_type": "stream",
     "text": [
      "100%|██████████| 800/800 [00:51<00:00, 15.41it/s]\n"
     ]
    },
    {
     "name": "stdout",
     "output_type": "stream",
     "text": [
      "mean PSNR : 24.505906848907472 449/500\n",
      "mean MSE : 0.003806670616613701 449/500\n",
      "max_psnr: 26.06439317703247, epoch: 264\n"
     ]
    },
    {
     "name": "stderr",
     "output_type": "stream",
     "text": [
      "100%|██████████| 800/800 [00:51<00:00, 15.40it/s]\n"
     ]
    },
    {
     "name": "stdout",
     "output_type": "stream",
     "text": [
      "mean PSNR : 24.707480430603027 450/500\n",
      "mean MSE : 0.0035929219680838286 450/500\n",
      "max_psnr: 26.06439317703247, epoch: 264\n"
     ]
    },
    {
     "name": "stderr",
     "output_type": "stream",
     "text": [
      "100%|██████████| 800/800 [00:51<00:00, 15.40it/s]\n"
     ]
    },
    {
     "name": "stdout",
     "output_type": "stream",
     "text": [
      "mean PSNR : 25.50457260131836 451/500\n",
      "mean MSE : 0.0030788265843875707 451/500\n",
      "max_psnr: 26.06439317703247, epoch: 264\n"
     ]
    },
    {
     "name": "stderr",
     "output_type": "stream",
     "text": [
      "100%|██████████| 800/800 [00:51<00:00, 15.46it/s]\n"
     ]
    },
    {
     "name": "stdout",
     "output_type": "stream",
     "text": [
      "mean PSNR : 25.838055305480957 452/500\n",
      "mean MSE : 0.002875617050449364 452/500\n",
      "max_psnr: 26.06439317703247, epoch: 264\n"
     ]
    },
    {
     "name": "stderr",
     "output_type": "stream",
     "text": [
      "100%|██████████| 800/800 [00:51<00:00, 15.39it/s]\n"
     ]
    },
    {
     "name": "stdout",
     "output_type": "stream",
     "text": [
      "mean PSNR : 23.885280799865722 453/500\n",
      "mean MSE : 0.004315193044021726 453/500\n",
      "max_psnr: 26.06439317703247, epoch: 264\n"
     ]
    },
    {
     "name": "stderr",
     "output_type": "stream",
     "text": [
      "100%|██████████| 800/800 [00:51<00:00, 15.39it/s]\n"
     ]
    },
    {
     "name": "stdout",
     "output_type": "stream",
     "text": [
      "mean PSNR : 25.061710777282716 454/500\n",
      "mean MSE : 0.003332987338071689 454/500\n",
      "max_psnr: 26.06439317703247, epoch: 264\n"
     ]
    },
    {
     "name": "stderr",
     "output_type": "stream",
     "text": [
      "100%|██████████| 800/800 [00:51<00:00, 15.42it/s]\n"
     ]
    },
    {
     "name": "stdout",
     "output_type": "stream",
     "text": [
      "mean PSNR : 25.4795112991333 455/500\n",
      "mean MSE : 0.0031073246063897386 455/500\n",
      "max_psnr: 26.06439317703247, epoch: 264\n"
     ]
    },
    {
     "name": "stderr",
     "output_type": "stream",
     "text": [
      "100%|██████████| 800/800 [00:51<00:00, 15.44it/s]\n"
     ]
    },
    {
     "name": "stdout",
     "output_type": "stream",
     "text": [
      "mean PSNR : 24.504277420043945 456/500\n",
      "mean MSE : 0.0037033736635930835 456/500\n",
      "max_psnr: 26.06439317703247, epoch: 264\n"
     ]
    },
    {
     "name": "stderr",
     "output_type": "stream",
     "text": [
      "100%|██████████| 800/800 [00:51<00:00, 15.45it/s]\n"
     ]
    },
    {
     "name": "stdout",
     "output_type": "stream",
     "text": [
      "mean PSNR : 25.556337146759034 457/500\n",
      "mean MSE : 0.0030242120317416268 457/500\n",
      "max_psnr: 26.06439317703247, epoch: 264\n"
     ]
    },
    {
     "name": "stderr",
     "output_type": "stream",
     "text": [
      "100%|██████████| 800/800 [00:51<00:00, 15.42it/s]\n"
     ]
    },
    {
     "name": "stdout",
     "output_type": "stream",
     "text": [
      "mean PSNR : 25.67868274688721 458/500\n",
      "mean MSE : 0.00298406278132461 458/500\n",
      "max_psnr: 26.06439317703247, epoch: 264\n"
     ]
    },
    {
     "name": "stderr",
     "output_type": "stream",
     "text": [
      "100%|██████████| 800/800 [00:51<00:00, 15.39it/s]\n"
     ]
    },
    {
     "name": "stdout",
     "output_type": "stream",
     "text": [
      "mean PSNR : 24.810231952667237 459/500\n",
      "mean MSE : 0.003500644530868158 459/500\n",
      "max_psnr: 26.06439317703247, epoch: 264\n"
     ]
    },
    {
     "name": "stderr",
     "output_type": "stream",
     "text": [
      "100%|██████████| 800/800 [00:51<00:00, 15.40it/s]\n"
     ]
    },
    {
     "name": "stdout",
     "output_type": "stream",
     "text": [
      "mean PSNR : 25.08111740112305 460/500\n",
      "mean MSE : 0.0033609306369908154 460/500\n",
      "max_psnr: 26.06439317703247, epoch: 264\n"
     ]
    },
    {
     "name": "stderr",
     "output_type": "stream",
     "text": [
      "100%|██████████| 800/800 [00:51<00:00, 15.43it/s]\n"
     ]
    },
    {
     "name": "stdout",
     "output_type": "stream",
     "text": [
      "mean PSNR : 25.73740686416626 461/500\n",
      "mean MSE : 0.0029289769078604875 461/500\n",
      "max_psnr: 26.06439317703247, epoch: 264\n"
     ]
    },
    {
     "name": "stderr",
     "output_type": "stream",
     "text": [
      "100%|██████████| 800/800 [00:51<00:00, 15.43it/s]\n"
     ]
    },
    {
     "name": "stdout",
     "output_type": "stream",
     "text": [
      "mean PSNR : 25.182139739990234 462/500\n",
      "mean MSE : 0.0032385272765532136 462/500\n",
      "max_psnr: 26.06439317703247, epoch: 264\n"
     ]
    },
    {
     "name": "stderr",
     "output_type": "stream",
     "text": [
      "100%|██████████| 800/800 [00:52<00:00, 15.35it/s]\n"
     ]
    },
    {
     "name": "stdout",
     "output_type": "stream",
     "text": [
      "mean PSNR : 25.144338817596434 463/500\n",
      "mean MSE : 0.0032578144734725354 463/500\n",
      "max_psnr: 26.06439317703247, epoch: 264\n"
     ]
    },
    {
     "name": "stderr",
     "output_type": "stream",
     "text": [
      "100%|██████████| 800/800 [00:51<00:00, 15.45it/s]\n"
     ]
    },
    {
     "name": "stdout",
     "output_type": "stream",
     "text": [
      "mean PSNR : 25.065560455322267 464/500\n",
      "mean MSE : 0.0033817536872811616 464/500\n",
      "max_psnr: 26.06439317703247, epoch: 264\n"
     ]
    },
    {
     "name": "stderr",
     "output_type": "stream",
     "text": [
      "100%|██████████| 800/800 [00:52<00:00, 15.33it/s]\n"
     ]
    },
    {
     "name": "stdout",
     "output_type": "stream",
     "text": [
      "mean PSNR : 24.507924690246583 465/500\n",
      "mean MSE : 0.0037304383795708418 465/500\n",
      "max_psnr: 26.06439317703247, epoch: 264\n"
     ]
    },
    {
     "name": "stderr",
     "output_type": "stream",
     "text": [
      "100%|██████████| 800/800 [00:52<00:00, 15.22it/s]\n"
     ]
    },
    {
     "name": "stdout",
     "output_type": "stream",
     "text": [
      "mean PSNR : 23.3701780128479 466/500\n",
      "mean MSE : 0.004702489071059972 466/500\n",
      "max_psnr: 26.06439317703247, epoch: 264\n"
     ]
    },
    {
     "name": "stderr",
     "output_type": "stream",
     "text": [
      "100%|██████████| 800/800 [00:52<00:00, 15.17it/s]\n"
     ]
    },
    {
     "name": "stdout",
     "output_type": "stream",
     "text": [
      "mean PSNR : 12.968298711776733 467/500\n",
      "mean MSE : 0.05320761422626674 467/500\n",
      "max_psnr: 26.06439317703247, epoch: 264\n"
     ]
    },
    {
     "name": "stderr",
     "output_type": "stream",
     "text": [
      "100%|██████████| 800/800 [00:51<00:00, 15.40it/s]\n"
     ]
    },
    {
     "name": "stdout",
     "output_type": "stream",
     "text": [
      "mean PSNR : 12.968298778533935 468/500\n",
      "mean MSE : 0.05320761380717158 468/500\n",
      "max_psnr: 26.06439317703247, epoch: 264\n"
     ]
    },
    {
     "name": "stderr",
     "output_type": "stream",
     "text": [
      "100%|██████████| 800/800 [00:51<00:00, 15.46it/s]\n"
     ]
    },
    {
     "name": "stdout",
     "output_type": "stream",
     "text": [
      "mean PSNR : 12.968298664093018 469/500\n",
      "mean MSE : 0.0532076152972877 469/500\n",
      "max_psnr: 26.06439317703247, epoch: 264\n"
     ]
    },
    {
     "name": "stderr",
     "output_type": "stream",
     "text": [
      "100%|██████████| 800/800 [00:51<00:00, 15.44it/s]\n"
     ]
    },
    {
     "name": "stdout",
     "output_type": "stream",
     "text": [
      "mean PSNR : 12.968315525054932 470/500\n",
      "mean MSE : 0.05320732584223151 470/500\n",
      "max_psnr: 26.06439317703247, epoch: 264\n"
     ]
    },
    {
     "name": "stderr",
     "output_type": "stream",
     "text": [
      "100%|██████████| 800/800 [00:51<00:00, 15.43it/s]\n"
     ]
    },
    {
     "name": "stdout",
     "output_type": "stream",
     "text": [
      "mean PSNR : 12.968315525054932 471/500\n",
      "mean MSE : 0.05320732584223151 471/500\n",
      "max_psnr: 26.06439317703247, epoch: 264\n"
     ]
    },
    {
     "name": "stderr",
     "output_type": "stream",
     "text": [
      "100%|██████████| 800/800 [00:51<00:00, 15.47it/s]\n"
     ]
    },
    {
     "name": "stdout",
     "output_type": "stream",
     "text": [
      "mean PSNR : 12.968315525054932 472/500\n",
      "mean MSE : 0.05320732584223151 472/500\n",
      "max_psnr: 26.06439317703247, epoch: 264\n"
     ]
    },
    {
     "name": "stderr",
     "output_type": "stream",
     "text": [
      "100%|██████████| 800/800 [00:51<00:00, 15.47it/s]\n"
     ]
    },
    {
     "name": "stdout",
     "output_type": "stream",
     "text": [
      "mean PSNR : 12.968315525054932 473/500\n",
      "mean MSE : 0.05320732584223151 473/500\n",
      "max_psnr: 26.06439317703247, epoch: 264\n"
     ]
    },
    {
     "name": "stderr",
     "output_type": "stream",
     "text": [
      "100%|██████████| 800/800 [00:51<00:00, 15.49it/s]\n"
     ]
    },
    {
     "name": "stdout",
     "output_type": "stream",
     "text": [
      "mean PSNR : 12.968315525054932 474/500\n",
      "mean MSE : 0.05320732584223151 474/500\n",
      "max_psnr: 26.06439317703247, epoch: 264\n"
     ]
    },
    {
     "name": "stderr",
     "output_type": "stream",
     "text": [
      "100%|██████████| 800/800 [00:51<00:00, 15.45it/s]\n"
     ]
    },
    {
     "name": "stdout",
     "output_type": "stream",
     "text": [
      "mean PSNR : 12.968315525054932 475/500\n",
      "mean MSE : 0.05320732584223151 475/500\n",
      "max_psnr: 26.06439317703247, epoch: 264\n"
     ]
    },
    {
     "name": "stderr",
     "output_type": "stream",
     "text": [
      "100%|██████████| 800/800 [00:51<00:00, 15.46it/s]\n"
     ]
    },
    {
     "name": "stdout",
     "output_type": "stream",
     "text": [
      "mean PSNR : 12.968315525054932 476/500\n",
      "mean MSE : 0.05320732584223151 476/500\n",
      "max_psnr: 26.06439317703247, epoch: 264\n"
     ]
    },
    {
     "name": "stderr",
     "output_type": "stream",
     "text": [
      "100%|██████████| 800/800 [00:51<00:00, 15.46it/s]\n"
     ]
    },
    {
     "name": "stdout",
     "output_type": "stream",
     "text": [
      "mean PSNR : 12.96831789970398 477/500\n",
      "mean MSE : 0.05320729680359364 477/500\n",
      "max_psnr: 26.06439317703247, epoch: 264\n"
     ]
    },
    {
     "name": "stderr",
     "output_type": "stream",
     "text": [
      "100%|██████████| 800/800 [00:51<00:00, 15.46it/s]\n"
     ]
    },
    {
     "name": "stdout",
     "output_type": "stream",
     "text": [
      "mean PSNR : 12.968317890167237 478/500\n",
      "mean MSE : 0.053207296691834924 478/500\n",
      "max_psnr: 26.06439317703247, epoch: 264\n"
     ]
    },
    {
     "name": "stderr",
     "output_type": "stream",
     "text": [
      "100%|██████████| 800/800 [00:51<00:00, 15.49it/s]\n"
     ]
    },
    {
     "name": "stdout",
     "output_type": "stream",
     "text": [
      "mean PSNR : 12.968317890167237 479/500\n",
      "mean MSE : 0.053207296691834924 479/500\n",
      "max_psnr: 26.06439317703247, epoch: 264\n"
     ]
    },
    {
     "name": "stderr",
     "output_type": "stream",
     "text": [
      "100%|██████████| 800/800 [00:51<00:00, 15.48it/s]\n"
     ]
    },
    {
     "name": "stdout",
     "output_type": "stream",
     "text": [
      "mean PSNR : 12.968317890167237 480/500\n",
      "mean MSE : 0.053207296691834924 480/500\n",
      "max_psnr: 26.06439317703247, epoch: 264\n"
     ]
    },
    {
     "name": "stderr",
     "output_type": "stream",
     "text": [
      "100%|██████████| 800/800 [00:51<00:00, 15.49it/s]\n"
     ]
    },
    {
     "name": "stdout",
     "output_type": "stream",
     "text": [
      "mean PSNR : 12.968317890167237 481/500\n",
      "mean MSE : 0.053207296691834924 481/500\n",
      "max_psnr: 26.06439317703247, epoch: 264\n"
     ]
    },
    {
     "name": "stderr",
     "output_type": "stream",
     "text": [
      "100%|██████████| 800/800 [00:51<00:00, 15.46it/s]\n"
     ]
    },
    {
     "name": "stdout",
     "output_type": "stream",
     "text": [
      "mean PSNR : 12.968317890167237 482/500\n",
      "mean MSE : 0.053207296691834924 482/500\n",
      "max_psnr: 26.06439317703247, epoch: 264\n"
     ]
    },
    {
     "name": "stderr",
     "output_type": "stream",
     "text": [
      "100%|██████████| 800/800 [00:51<00:00, 15.44it/s]\n"
     ]
    },
    {
     "name": "stdout",
     "output_type": "stream",
     "text": [
      "mean PSNR : 12.968317890167237 483/500\n",
      "mean MSE : 0.053207296691834924 483/500\n",
      "max_psnr: 26.06439317703247, epoch: 264\n"
     ]
    },
    {
     "name": "stderr",
     "output_type": "stream",
     "text": [
      "100%|██████████| 800/800 [00:51<00:00, 15.48it/s]\n"
     ]
    },
    {
     "name": "stdout",
     "output_type": "stream",
     "text": [
      "mean PSNR : 12.968317890167237 484/500\n",
      "mean MSE : 0.053207296691834924 484/500\n",
      "max_psnr: 26.06439317703247, epoch: 264\n"
     ]
    },
    {
     "name": "stderr",
     "output_type": "stream",
     "text": [
      "100%|██████████| 800/800 [00:51<00:00, 15.47it/s]\n"
     ]
    },
    {
     "name": "stdout",
     "output_type": "stream",
     "text": [
      "mean PSNR : 12.968317890167237 485/500\n",
      "mean MSE : 0.053207296691834924 485/500\n",
      "max_psnr: 26.06439317703247, epoch: 264\n"
     ]
    },
    {
     "name": "stderr",
     "output_type": "stream",
     "text": [
      "100%|██████████| 800/800 [00:51<00:00, 15.45it/s]\n"
     ]
    },
    {
     "name": "stdout",
     "output_type": "stream",
     "text": [
      "mean PSNR : 12.968317890167237 486/500\n",
      "mean MSE : 0.053207296691834924 486/500\n",
      "max_psnr: 26.06439317703247, epoch: 264\n"
     ]
    },
    {
     "name": "stderr",
     "output_type": "stream",
     "text": [
      "100%|██████████| 800/800 [00:51<00:00, 15.45it/s]\n"
     ]
    },
    {
     "name": "stdout",
     "output_type": "stream",
     "text": [
      "mean PSNR : 12.968317890167237 487/500\n",
      "mean MSE : 0.053207296691834924 487/500\n",
      "max_psnr: 26.06439317703247, epoch: 264\n"
     ]
    },
    {
     "name": "stderr",
     "output_type": "stream",
     "text": [
      "100%|██████████| 800/800 [00:51<00:00, 15.46it/s]\n"
     ]
    },
    {
     "name": "stdout",
     "output_type": "stream",
     "text": [
      "mean PSNR : 12.968317890167237 488/500\n",
      "mean MSE : 0.053207296691834924 488/500\n",
      "max_psnr: 26.06439317703247, epoch: 264\n"
     ]
    },
    {
     "name": "stderr",
     "output_type": "stream",
     "text": [
      "100%|██████████| 800/800 [00:51<00:00, 15.42it/s]\n"
     ]
    },
    {
     "name": "stdout",
     "output_type": "stream",
     "text": [
      "mean PSNR : 12.968317890167237 489/500\n",
      "mean MSE : 0.053207296691834924 489/500\n",
      "max_psnr: 26.06439317703247, epoch: 264\n"
     ]
    },
    {
     "name": "stderr",
     "output_type": "stream",
     "text": [
      "100%|██████████| 800/800 [00:51<00:00, 15.43it/s]\n"
     ]
    },
    {
     "name": "stdout",
     "output_type": "stream",
     "text": [
      "mean PSNR : 12.968317890167237 490/500\n",
      "mean MSE : 0.053207296691834924 490/500\n",
      "max_psnr: 26.06439317703247, epoch: 264\n"
     ]
    },
    {
     "name": "stderr",
     "output_type": "stream",
     "text": [
      "100%|██████████| 800/800 [00:51<00:00, 15.45it/s]\n"
     ]
    },
    {
     "name": "stdout",
     "output_type": "stream",
     "text": [
      "mean PSNR : 12.968317890167237 491/500\n",
      "mean MSE : 0.053207296691834924 491/500\n",
      "max_psnr: 26.06439317703247, epoch: 264\n"
     ]
    },
    {
     "name": "stderr",
     "output_type": "stream",
     "text": [
      "100%|██████████| 800/800 [00:51<00:00, 15.48it/s]\n"
     ]
    },
    {
     "name": "stdout",
     "output_type": "stream",
     "text": [
      "mean PSNR : 12.968317890167237 492/500\n",
      "mean MSE : 0.053207296691834924 492/500\n",
      "max_psnr: 26.06439317703247, epoch: 264\n"
     ]
    },
    {
     "name": "stderr",
     "output_type": "stream",
     "text": [
      "100%|██████████| 800/800 [00:51<00:00, 15.47it/s]\n"
     ]
    },
    {
     "name": "stdout",
     "output_type": "stream",
     "text": [
      "mean PSNR : 12.968317890167237 493/500\n",
      "mean MSE : 0.053207296691834924 493/500\n",
      "max_psnr: 26.06439317703247, epoch: 264\n"
     ]
    },
    {
     "name": "stderr",
     "output_type": "stream",
     "text": [
      "100%|██████████| 800/800 [00:51<00:00, 15.46it/s]\n"
     ]
    },
    {
     "name": "stdout",
     "output_type": "stream",
     "text": [
      "mean PSNR : 12.968317890167237 494/500\n",
      "mean MSE : 0.053207296691834924 494/500\n",
      "max_psnr: 26.06439317703247, epoch: 264\n"
     ]
    },
    {
     "name": "stderr",
     "output_type": "stream",
     "text": [
      "100%|██████████| 800/800 [00:51<00:00, 15.47it/s]\n"
     ]
    },
    {
     "name": "stdout",
     "output_type": "stream",
     "text": [
      "mean PSNR : 12.968317890167237 495/500\n",
      "mean MSE : 0.053207296691834924 495/500\n",
      "max_psnr: 26.06439317703247, epoch: 264\n"
     ]
    },
    {
     "name": "stderr",
     "output_type": "stream",
     "text": [
      "100%|██████████| 800/800 [00:51<00:00, 15.44it/s]\n"
     ]
    },
    {
     "name": "stdout",
     "output_type": "stream",
     "text": [
      "mean PSNR : 12.968317890167237 496/500\n",
      "mean MSE : 0.053207296691834924 496/500\n",
      "max_psnr: 26.06439317703247, epoch: 264\n"
     ]
    },
    {
     "name": "stderr",
     "output_type": "stream",
     "text": [
      "100%|██████████| 800/800 [00:51<00:00, 15.44it/s]\n"
     ]
    },
    {
     "name": "stdout",
     "output_type": "stream",
     "text": [
      "mean PSNR : 12.96831829071045 497/500\n",
      "mean MSE : 0.053207289176061746 497/500\n",
      "max_psnr: 26.06439317703247, epoch: 264\n"
     ]
    },
    {
     "name": "stderr",
     "output_type": "stream",
     "text": [
      "100%|██████████| 800/800 [00:51<00:00, 15.49it/s]\n"
     ]
    },
    {
     "name": "stdout",
     "output_type": "stream",
     "text": [
      "mean PSNR : 12.96831829071045 498/500\n",
      "mean MSE : 0.053207289176061746 498/500\n",
      "max_psnr: 26.06439317703247, epoch: 264\n"
     ]
    },
    {
     "name": "stderr",
     "output_type": "stream",
     "text": [
      "100%|██████████| 800/800 [00:51<00:00, 15.49it/s]\n"
     ]
    },
    {
     "name": "stdout",
     "output_type": "stream",
     "text": [
      "mean PSNR : 12.96831829071045 499/500\n",
      "mean MSE : 0.053207289176061746 499/500\n",
      "max_psnr: 26.06439317703247, epoch: 264\n"
     ]
    },
    {
     "data": {
      "text/plain": [
       "<Figure size 640x480 with 0 Axes>"
      ]
     },
     "metadata": {},
     "output_type": "display_data"
    }
   ],
   "source": [
    "rgb_binary_train_padding(model, num_hologram=CH, custom_name='pre_reinforce', epochs=500, lr=1e-4, z=2e-3)"
   ]
  },
  {
   "cell_type": "code",
   "execution_count": 5,
   "id": "d2b5e545-d079-427d-b45f-54f036986ecf",
   "metadata": {},
   "outputs": [
    {
     "data": {
      "text/plain": [
       "torch.Size([1, 1024, 1024])"
      ]
     },
     "execution_count": 5,
     "metadata": {},
     "output_type": "execute_result"
    }
   ],
   "source": [
    "valid_dataset[0].shape"
   ]
  },
  {
   "cell_type": "code",
   "execution_count": 6,
   "id": "ec5171e0-5cd1-4f6f-9366-d6f84590e6fd",
   "metadata": {},
   "outputs": [
    {
     "ename": "RuntimeError",
     "evalue": "Expected 3D (unbatched) or 4D (batched) input to conv2d, but got input of size: [1, 1, 1, 1024, 1024]",
     "output_type": "error",
     "traceback": [
      "\u001b[0;31m---------------------------------------------------------------------------\u001b[0m",
      "\u001b[0;31mRuntimeError\u001b[0m                              Traceback (most recent call last)",
      "Cell \u001b[0;32mIn[6], line 2\u001b[0m\n\u001b[1;32m      1\u001b[0m sign \u001b[38;5;241m=\u001b[39m SignFunction\u001b[38;5;241m.\u001b[39mapply\n\u001b[0;32m----> 2\u001b[0m out \u001b[38;5;241m=\u001b[39m \u001b[43mmodel\u001b[49m\u001b[43m(\u001b[49m\u001b[43mvalid_dataset\u001b[49m\u001b[43m[\u001b[49m\u001b[38;5;241;43m0\u001b[39;49m\u001b[43m]\u001b[49m\u001b[38;5;241;43m.\u001b[39;49m\u001b[43munsqueeze\u001b[49m\u001b[43m(\u001b[49m\u001b[38;5;241;43m0\u001b[39;49m\u001b[43m)\u001b[49m\u001b[38;5;241;43m.\u001b[39;49m\u001b[43munsqueeze\u001b[49m\u001b[43m(\u001b[49m\u001b[38;5;241;43m0\u001b[39;49m\u001b[43m)\u001b[49m\u001b[43m)\u001b[49m\n\u001b[1;32m      3\u001b[0m binary \u001b[38;5;241m=\u001b[39m sign(out, \u001b[38;5;241m0.5\u001b[39m)\n\u001b[1;32m      4\u001b[0m sim \u001b[38;5;241m=\u001b[39m tt\u001b[38;5;241m.\u001b[39msimulate(binary, \u001b[38;5;241m2e-3\u001b[39m)\n",
      "File \u001b[0;32m/usr/local/lib/python3.8/dist-packages/torch/nn/modules/module.py:1553\u001b[0m, in \u001b[0;36mModule._wrapped_call_impl\u001b[0;34m(self, *args, **kwargs)\u001b[0m\n\u001b[1;32m   1551\u001b[0m     \u001b[38;5;28;01mreturn\u001b[39;00m \u001b[38;5;28mself\u001b[39m\u001b[38;5;241m.\u001b[39m_compiled_call_impl(\u001b[38;5;241m*\u001b[39margs, \u001b[38;5;241m*\u001b[39m\u001b[38;5;241m*\u001b[39mkwargs)  \u001b[38;5;66;03m# type: ignore[misc]\u001b[39;00m\n\u001b[1;32m   1552\u001b[0m \u001b[38;5;28;01melse\u001b[39;00m:\n\u001b[0;32m-> 1553\u001b[0m     \u001b[38;5;28;01mreturn\u001b[39;00m \u001b[38;5;28;43mself\u001b[39;49m\u001b[38;5;241;43m.\u001b[39;49m\u001b[43m_call_impl\u001b[49m\u001b[43m(\u001b[49m\u001b[38;5;241;43m*\u001b[39;49m\u001b[43margs\u001b[49m\u001b[43m,\u001b[49m\u001b[43m \u001b[49m\u001b[38;5;241;43m*\u001b[39;49m\u001b[38;5;241;43m*\u001b[39;49m\u001b[43mkwargs\u001b[49m\u001b[43m)\u001b[49m\n",
      "File \u001b[0;32m/usr/local/lib/python3.8/dist-packages/torch/nn/modules/module.py:1562\u001b[0m, in \u001b[0;36mModule._call_impl\u001b[0;34m(self, *args, **kwargs)\u001b[0m\n\u001b[1;32m   1557\u001b[0m \u001b[38;5;66;03m# If we don't have any hooks, we want to skip the rest of the logic in\u001b[39;00m\n\u001b[1;32m   1558\u001b[0m \u001b[38;5;66;03m# this function, and just call forward.\u001b[39;00m\n\u001b[1;32m   1559\u001b[0m \u001b[38;5;28;01mif\u001b[39;00m \u001b[38;5;129;01mnot\u001b[39;00m (\u001b[38;5;28mself\u001b[39m\u001b[38;5;241m.\u001b[39m_backward_hooks \u001b[38;5;129;01mor\u001b[39;00m \u001b[38;5;28mself\u001b[39m\u001b[38;5;241m.\u001b[39m_backward_pre_hooks \u001b[38;5;129;01mor\u001b[39;00m \u001b[38;5;28mself\u001b[39m\u001b[38;5;241m.\u001b[39m_forward_hooks \u001b[38;5;129;01mor\u001b[39;00m \u001b[38;5;28mself\u001b[39m\u001b[38;5;241m.\u001b[39m_forward_pre_hooks\n\u001b[1;32m   1560\u001b[0m         \u001b[38;5;129;01mor\u001b[39;00m _global_backward_pre_hooks \u001b[38;5;129;01mor\u001b[39;00m _global_backward_hooks\n\u001b[1;32m   1561\u001b[0m         \u001b[38;5;129;01mor\u001b[39;00m _global_forward_hooks \u001b[38;5;129;01mor\u001b[39;00m _global_forward_pre_hooks):\n\u001b[0;32m-> 1562\u001b[0m     \u001b[38;5;28;01mreturn\u001b[39;00m \u001b[43mforward_call\u001b[49m\u001b[43m(\u001b[49m\u001b[38;5;241;43m*\u001b[39;49m\u001b[43margs\u001b[49m\u001b[43m,\u001b[49m\u001b[43m \u001b[49m\u001b[38;5;241;43m*\u001b[39;49m\u001b[38;5;241;43m*\u001b[39;49m\u001b[43mkwargs\u001b[49m\u001b[43m)\u001b[49m\n\u001b[1;32m   1564\u001b[0m \u001b[38;5;28;01mtry\u001b[39;00m:\n\u001b[1;32m   1565\u001b[0m     result \u001b[38;5;241m=\u001b[39m \u001b[38;5;28;01mNone\u001b[39;00m\n",
      "Cell \u001b[0;32mIn[2], line 75\u001b[0m, in \u001b[0;36mBinaryNet.forward\u001b[0;34m(self, x)\u001b[0m\n\u001b[1;32m     73\u001b[0m \u001b[38;5;28;01mdef\u001b[39;00m \u001b[38;5;21mforward\u001b[39m(\u001b[38;5;28mself\u001b[39m, x):\n\u001b[1;32m     74\u001b[0m     \u001b[38;5;66;03m# Encoder\u001b[39;00m\n\u001b[0;32m---> 75\u001b[0m     enc1_1 \u001b[38;5;241m=\u001b[39m \u001b[38;5;28;43mself\u001b[39;49m\u001b[38;5;241;43m.\u001b[39;49m\u001b[43menc1_1\u001b[49m\u001b[43m(\u001b[49m\u001b[43mx\u001b[49m\u001b[43m)\u001b[49m\n\u001b[1;32m     76\u001b[0m     enc1_2 \u001b[38;5;241m=\u001b[39m \u001b[38;5;28mself\u001b[39m\u001b[38;5;241m.\u001b[39menc1_2(enc1_1)\n\u001b[1;32m     77\u001b[0m     pool1 \u001b[38;5;241m=\u001b[39m \u001b[38;5;28mself\u001b[39m\u001b[38;5;241m.\u001b[39mpool1(enc1_2)\n",
      "File \u001b[0;32m/usr/local/lib/python3.8/dist-packages/torch/nn/modules/module.py:1553\u001b[0m, in \u001b[0;36mModule._wrapped_call_impl\u001b[0;34m(self, *args, **kwargs)\u001b[0m\n\u001b[1;32m   1551\u001b[0m     \u001b[38;5;28;01mreturn\u001b[39;00m \u001b[38;5;28mself\u001b[39m\u001b[38;5;241m.\u001b[39m_compiled_call_impl(\u001b[38;5;241m*\u001b[39margs, \u001b[38;5;241m*\u001b[39m\u001b[38;5;241m*\u001b[39mkwargs)  \u001b[38;5;66;03m# type: ignore[misc]\u001b[39;00m\n\u001b[1;32m   1552\u001b[0m \u001b[38;5;28;01melse\u001b[39;00m:\n\u001b[0;32m-> 1553\u001b[0m     \u001b[38;5;28;01mreturn\u001b[39;00m \u001b[38;5;28;43mself\u001b[39;49m\u001b[38;5;241;43m.\u001b[39;49m\u001b[43m_call_impl\u001b[49m\u001b[43m(\u001b[49m\u001b[38;5;241;43m*\u001b[39;49m\u001b[43margs\u001b[49m\u001b[43m,\u001b[49m\u001b[43m \u001b[49m\u001b[38;5;241;43m*\u001b[39;49m\u001b[38;5;241;43m*\u001b[39;49m\u001b[43mkwargs\u001b[49m\u001b[43m)\u001b[49m\n",
      "File \u001b[0;32m/usr/local/lib/python3.8/dist-packages/torch/nn/modules/module.py:1562\u001b[0m, in \u001b[0;36mModule._call_impl\u001b[0;34m(self, *args, **kwargs)\u001b[0m\n\u001b[1;32m   1557\u001b[0m \u001b[38;5;66;03m# If we don't have any hooks, we want to skip the rest of the logic in\u001b[39;00m\n\u001b[1;32m   1558\u001b[0m \u001b[38;5;66;03m# this function, and just call forward.\u001b[39;00m\n\u001b[1;32m   1559\u001b[0m \u001b[38;5;28;01mif\u001b[39;00m \u001b[38;5;129;01mnot\u001b[39;00m (\u001b[38;5;28mself\u001b[39m\u001b[38;5;241m.\u001b[39m_backward_hooks \u001b[38;5;129;01mor\u001b[39;00m \u001b[38;5;28mself\u001b[39m\u001b[38;5;241m.\u001b[39m_backward_pre_hooks \u001b[38;5;129;01mor\u001b[39;00m \u001b[38;5;28mself\u001b[39m\u001b[38;5;241m.\u001b[39m_forward_hooks \u001b[38;5;129;01mor\u001b[39;00m \u001b[38;5;28mself\u001b[39m\u001b[38;5;241m.\u001b[39m_forward_pre_hooks\n\u001b[1;32m   1560\u001b[0m         \u001b[38;5;129;01mor\u001b[39;00m _global_backward_pre_hooks \u001b[38;5;129;01mor\u001b[39;00m _global_backward_hooks\n\u001b[1;32m   1561\u001b[0m         \u001b[38;5;129;01mor\u001b[39;00m _global_forward_hooks \u001b[38;5;129;01mor\u001b[39;00m _global_forward_pre_hooks):\n\u001b[0;32m-> 1562\u001b[0m     \u001b[38;5;28;01mreturn\u001b[39;00m \u001b[43mforward_call\u001b[49m\u001b[43m(\u001b[49m\u001b[38;5;241;43m*\u001b[39;49m\u001b[43margs\u001b[49m\u001b[43m,\u001b[49m\u001b[43m \u001b[49m\u001b[38;5;241;43m*\u001b[39;49m\u001b[38;5;241;43m*\u001b[39;49m\u001b[43mkwargs\u001b[49m\u001b[43m)\u001b[49m\n\u001b[1;32m   1564\u001b[0m \u001b[38;5;28;01mtry\u001b[39;00m:\n\u001b[1;32m   1565\u001b[0m     result \u001b[38;5;241m=\u001b[39m \u001b[38;5;28;01mNone\u001b[39;00m\n",
      "File \u001b[0;32m/usr/local/lib/python3.8/dist-packages/torch/nn/modules/container.py:219\u001b[0m, in \u001b[0;36mSequential.forward\u001b[0;34m(self, input)\u001b[0m\n\u001b[1;32m    217\u001b[0m \u001b[38;5;28;01mdef\u001b[39;00m \u001b[38;5;21mforward\u001b[39m(\u001b[38;5;28mself\u001b[39m, \u001b[38;5;28minput\u001b[39m):\n\u001b[1;32m    218\u001b[0m     \u001b[38;5;28;01mfor\u001b[39;00m module \u001b[38;5;129;01min\u001b[39;00m \u001b[38;5;28mself\u001b[39m:\n\u001b[0;32m--> 219\u001b[0m         \u001b[38;5;28minput\u001b[39m \u001b[38;5;241m=\u001b[39m \u001b[43mmodule\u001b[49m\u001b[43m(\u001b[49m\u001b[38;5;28;43minput\u001b[39;49m\u001b[43m)\u001b[49m\n\u001b[1;32m    220\u001b[0m     \u001b[38;5;28;01mreturn\u001b[39;00m \u001b[38;5;28minput\u001b[39m\n",
      "File \u001b[0;32m/usr/local/lib/python3.8/dist-packages/torch/nn/modules/module.py:1553\u001b[0m, in \u001b[0;36mModule._wrapped_call_impl\u001b[0;34m(self, *args, **kwargs)\u001b[0m\n\u001b[1;32m   1551\u001b[0m     \u001b[38;5;28;01mreturn\u001b[39;00m \u001b[38;5;28mself\u001b[39m\u001b[38;5;241m.\u001b[39m_compiled_call_impl(\u001b[38;5;241m*\u001b[39margs, \u001b[38;5;241m*\u001b[39m\u001b[38;5;241m*\u001b[39mkwargs)  \u001b[38;5;66;03m# type: ignore[misc]\u001b[39;00m\n\u001b[1;32m   1552\u001b[0m \u001b[38;5;28;01melse\u001b[39;00m:\n\u001b[0;32m-> 1553\u001b[0m     \u001b[38;5;28;01mreturn\u001b[39;00m \u001b[38;5;28;43mself\u001b[39;49m\u001b[38;5;241;43m.\u001b[39;49m\u001b[43m_call_impl\u001b[49m\u001b[43m(\u001b[49m\u001b[38;5;241;43m*\u001b[39;49m\u001b[43margs\u001b[49m\u001b[43m,\u001b[49m\u001b[43m \u001b[49m\u001b[38;5;241;43m*\u001b[39;49m\u001b[38;5;241;43m*\u001b[39;49m\u001b[43mkwargs\u001b[49m\u001b[43m)\u001b[49m\n",
      "File \u001b[0;32m/usr/local/lib/python3.8/dist-packages/torch/nn/modules/module.py:1562\u001b[0m, in \u001b[0;36mModule._call_impl\u001b[0;34m(self, *args, **kwargs)\u001b[0m\n\u001b[1;32m   1557\u001b[0m \u001b[38;5;66;03m# If we don't have any hooks, we want to skip the rest of the logic in\u001b[39;00m\n\u001b[1;32m   1558\u001b[0m \u001b[38;5;66;03m# this function, and just call forward.\u001b[39;00m\n\u001b[1;32m   1559\u001b[0m \u001b[38;5;28;01mif\u001b[39;00m \u001b[38;5;129;01mnot\u001b[39;00m (\u001b[38;5;28mself\u001b[39m\u001b[38;5;241m.\u001b[39m_backward_hooks \u001b[38;5;129;01mor\u001b[39;00m \u001b[38;5;28mself\u001b[39m\u001b[38;5;241m.\u001b[39m_backward_pre_hooks \u001b[38;5;129;01mor\u001b[39;00m \u001b[38;5;28mself\u001b[39m\u001b[38;5;241m.\u001b[39m_forward_hooks \u001b[38;5;129;01mor\u001b[39;00m \u001b[38;5;28mself\u001b[39m\u001b[38;5;241m.\u001b[39m_forward_pre_hooks\n\u001b[1;32m   1560\u001b[0m         \u001b[38;5;129;01mor\u001b[39;00m _global_backward_pre_hooks \u001b[38;5;129;01mor\u001b[39;00m _global_backward_hooks\n\u001b[1;32m   1561\u001b[0m         \u001b[38;5;129;01mor\u001b[39;00m _global_forward_hooks \u001b[38;5;129;01mor\u001b[39;00m _global_forward_pre_hooks):\n\u001b[0;32m-> 1562\u001b[0m     \u001b[38;5;28;01mreturn\u001b[39;00m \u001b[43mforward_call\u001b[49m\u001b[43m(\u001b[49m\u001b[38;5;241;43m*\u001b[39;49m\u001b[43margs\u001b[49m\u001b[43m,\u001b[49m\u001b[43m \u001b[49m\u001b[38;5;241;43m*\u001b[39;49m\u001b[38;5;241;43m*\u001b[39;49m\u001b[43mkwargs\u001b[49m\u001b[43m)\u001b[49m\n\u001b[1;32m   1564\u001b[0m \u001b[38;5;28;01mtry\u001b[39;00m:\n\u001b[1;32m   1565\u001b[0m     result \u001b[38;5;241m=\u001b[39m \u001b[38;5;28;01mNone\u001b[39;00m\n",
      "File \u001b[0;32m/usr/local/lib/python3.8/dist-packages/torch/nn/modules/conv.py:458\u001b[0m, in \u001b[0;36mConv2d.forward\u001b[0;34m(self, input)\u001b[0m\n\u001b[1;32m    457\u001b[0m \u001b[38;5;28;01mdef\u001b[39;00m \u001b[38;5;21mforward\u001b[39m(\u001b[38;5;28mself\u001b[39m, \u001b[38;5;28minput\u001b[39m: Tensor) \u001b[38;5;241m-\u001b[39m\u001b[38;5;241m>\u001b[39m Tensor:\n\u001b[0;32m--> 458\u001b[0m     \u001b[38;5;28;01mreturn\u001b[39;00m \u001b[38;5;28;43mself\u001b[39;49m\u001b[38;5;241;43m.\u001b[39;49m\u001b[43m_conv_forward\u001b[49m\u001b[43m(\u001b[49m\u001b[38;5;28;43minput\u001b[39;49m\u001b[43m,\u001b[49m\u001b[43m \u001b[49m\u001b[38;5;28;43mself\u001b[39;49m\u001b[38;5;241;43m.\u001b[39;49m\u001b[43mweight\u001b[49m\u001b[43m,\u001b[49m\u001b[43m \u001b[49m\u001b[38;5;28;43mself\u001b[39;49m\u001b[38;5;241;43m.\u001b[39;49m\u001b[43mbias\u001b[49m\u001b[43m)\u001b[49m\n",
      "File \u001b[0;32m/usr/local/lib/python3.8/dist-packages/torch/nn/modules/conv.py:454\u001b[0m, in \u001b[0;36mConv2d._conv_forward\u001b[0;34m(self, input, weight, bias)\u001b[0m\n\u001b[1;32m    450\u001b[0m \u001b[38;5;28;01mif\u001b[39;00m \u001b[38;5;28mself\u001b[39m\u001b[38;5;241m.\u001b[39mpadding_mode \u001b[38;5;241m!=\u001b[39m \u001b[38;5;124m'\u001b[39m\u001b[38;5;124mzeros\u001b[39m\u001b[38;5;124m'\u001b[39m:\n\u001b[1;32m    451\u001b[0m     \u001b[38;5;28;01mreturn\u001b[39;00m F\u001b[38;5;241m.\u001b[39mconv2d(F\u001b[38;5;241m.\u001b[39mpad(\u001b[38;5;28minput\u001b[39m, \u001b[38;5;28mself\u001b[39m\u001b[38;5;241m.\u001b[39m_reversed_padding_repeated_twice, mode\u001b[38;5;241m=\u001b[39m\u001b[38;5;28mself\u001b[39m\u001b[38;5;241m.\u001b[39mpadding_mode),\n\u001b[1;32m    452\u001b[0m                     weight, bias, \u001b[38;5;28mself\u001b[39m\u001b[38;5;241m.\u001b[39mstride,\n\u001b[1;32m    453\u001b[0m                     _pair(\u001b[38;5;241m0\u001b[39m), \u001b[38;5;28mself\u001b[39m\u001b[38;5;241m.\u001b[39mdilation, \u001b[38;5;28mself\u001b[39m\u001b[38;5;241m.\u001b[39mgroups)\n\u001b[0;32m--> 454\u001b[0m \u001b[38;5;28;01mreturn\u001b[39;00m \u001b[43mF\u001b[49m\u001b[38;5;241;43m.\u001b[39;49m\u001b[43mconv2d\u001b[49m\u001b[43m(\u001b[49m\u001b[38;5;28;43minput\u001b[39;49m\u001b[43m,\u001b[49m\u001b[43m \u001b[49m\u001b[43mweight\u001b[49m\u001b[43m,\u001b[49m\u001b[43m \u001b[49m\u001b[43mbias\u001b[49m\u001b[43m,\u001b[49m\u001b[43m \u001b[49m\u001b[38;5;28;43mself\u001b[39;49m\u001b[38;5;241;43m.\u001b[39;49m\u001b[43mstride\u001b[49m\u001b[43m,\u001b[49m\n\u001b[1;32m    455\u001b[0m \u001b[43m                \u001b[49m\u001b[38;5;28;43mself\u001b[39;49m\u001b[38;5;241;43m.\u001b[39;49m\u001b[43mpadding\u001b[49m\u001b[43m,\u001b[49m\u001b[43m \u001b[49m\u001b[38;5;28;43mself\u001b[39;49m\u001b[38;5;241;43m.\u001b[39;49m\u001b[43mdilation\u001b[49m\u001b[43m,\u001b[49m\u001b[43m \u001b[49m\u001b[38;5;28;43mself\u001b[39;49m\u001b[38;5;241;43m.\u001b[39;49m\u001b[43mgroups\u001b[49m\u001b[43m)\u001b[49m\n",
      "File \u001b[0;32m/home/songyb111/torchOptics/optics.py:92\u001b[0m, in \u001b[0;36m_complex_not_implemented.<locals>.wrapper\u001b[0;34m(*args, **kwargs)\u001b[0m\n\u001b[1;32m     90\u001b[0m     \u001b[38;5;28;01mreturn\u001b[39;00m complexToEnd(r)\n\u001b[1;32m     91\u001b[0m \u001b[38;5;28;01melse\u001b[39;00m:\n\u001b[0;32m---> 92\u001b[0m     \u001b[38;5;28;01mraise\u001b[39;00m e\n",
      "File \u001b[0;32m/home/songyb111/torchOptics/optics.py:77\u001b[0m, in \u001b[0;36m_complex_not_implemented.<locals>.wrapper\u001b[0;34m(*args, **kwargs)\u001b[0m\n\u001b[1;32m     74\u001b[0m \u001b[38;5;129m@wraps\u001b[39m(func)\n\u001b[1;32m     75\u001b[0m \u001b[38;5;28;01mdef\u001b[39;00m \u001b[38;5;21mwrapper\u001b[39m(\u001b[38;5;241m*\u001b[39margs, \u001b[38;5;241m*\u001b[39m\u001b[38;5;241m*\u001b[39mkwargs):\n\u001b[1;32m     76\u001b[0m     \u001b[38;5;28;01mtry\u001b[39;00m:\n\u001b[0;32m---> 77\u001b[0m         \u001b[38;5;28;01mreturn\u001b[39;00m \u001b[43mfunc\u001b[49m\u001b[43m(\u001b[49m\u001b[38;5;241;43m*\u001b[39;49m\u001b[43margs\u001b[49m\u001b[43m,\u001b[49m\u001b[43m \u001b[49m\u001b[38;5;241;43m*\u001b[39;49m\u001b[38;5;241;43m*\u001b[39;49m\u001b[43mkwargs\u001b[49m\u001b[43m)\u001b[49m\n\u001b[1;32m     78\u001b[0m     \u001b[38;5;28;01mexcept\u001b[39;00m \u001b[38;5;167;01mRuntimeError\u001b[39;00m \u001b[38;5;28;01mas\u001b[39;00m e:\n\u001b[1;32m     79\u001b[0m         \u001b[38;5;28;01mif\u001b[39;00m \u001b[38;5;124m'\u001b[39m\u001b[38;5;124mnot implemented\u001b[39m\u001b[38;5;124m'\u001b[39m \u001b[38;5;129;01min\u001b[39;00m \u001b[38;5;28mstr\u001b[39m(e):\n",
      "File \u001b[0;32m/home/songyb111/torchOptics/optics.py:162\u001b[0m, in \u001b[0;36mTensor.__torch_function__\u001b[0;34m(self, func, types, args, kwargs)\u001b[0m\n\u001b[1;32m    160\u001b[0m \u001b[38;5;129m@_complex_not_implemented\u001b[39m\n\u001b[1;32m    161\u001b[0m \u001b[38;5;28;01mdef\u001b[39;00m \u001b[38;5;21m__torch_function__\u001b[39m(\u001b[38;5;28mself\u001b[39m, func, types, args\u001b[38;5;241m=\u001b[39m(), kwargs\u001b[38;5;241m=\u001b[39m\u001b[38;5;28;01mNone\u001b[39;00m):\n\u001b[0;32m--> 162\u001b[0m     r \u001b[38;5;241m=\u001b[39m \u001b[38;5;28;43msuper\u001b[39;49m\u001b[43m(\u001b[49m\u001b[43m)\u001b[49m\u001b[38;5;241;43m.\u001b[39;49m\u001b[43m__torch_function__\u001b[49m\u001b[43m(\u001b[49m\u001b[43mfunc\u001b[49m\u001b[38;5;241;43m=\u001b[39;49m\u001b[43mfunc\u001b[49m\u001b[43m,\u001b[49m\u001b[43m \u001b[49m\u001b[43mtypes\u001b[49m\u001b[38;5;241;43m=\u001b[39;49m\u001b[43mtypes\u001b[49m\u001b[43m,\u001b[49m\u001b[43m \u001b[49m\u001b[43margs\u001b[49m\u001b[38;5;241;43m=\u001b[39;49m\u001b[43margs\u001b[49m\u001b[43m,\u001b[49m\u001b[43m \u001b[49m\u001b[43mkwargs\u001b[49m\u001b[38;5;241;43m=\u001b[39;49m\u001b[43mkwargs\u001b[49m\u001b[43m)\u001b[49m\n\u001b[1;32m    163\u001b[0m     \u001b[38;5;28;01mif\u001b[39;00m \u001b[38;5;28misinstance\u001b[39m(r, Tensor) \u001b[38;5;129;01mand\u001b[39;00m \u001b[38;5;28mhasattr\u001b[39m(\u001b[38;5;28mself\u001b[39m, \u001b[38;5;124m'\u001b[39m\u001b[38;5;124mmeta\u001b[39m\u001b[38;5;124m'\u001b[39m) \u001b[38;5;129;01mand\u001b[39;00m \u001b[38;5;28mself\u001b[39m\u001b[38;5;241m.\u001b[39mmeta:\n\u001b[1;32m    164\u001b[0m         r\u001b[38;5;241m.\u001b[39mmeta \u001b[38;5;241m=\u001b[39m \u001b[38;5;28mself\u001b[39m\u001b[38;5;241m.\u001b[39mmeta\n",
      "File \u001b[0;32m/usr/local/lib/python3.8/dist-packages/torch/_tensor.py:1437\u001b[0m, in \u001b[0;36mTensor.__torch_function__\u001b[0;34m(cls, func, types, args, kwargs)\u001b[0m\n\u001b[1;32m   1434\u001b[0m     \u001b[38;5;28;01mreturn\u001b[39;00m \u001b[38;5;28mNotImplemented\u001b[39m\n\u001b[1;32m   1436\u001b[0m \u001b[38;5;28;01mwith\u001b[39;00m _C\u001b[38;5;241m.\u001b[39mDisableTorchFunctionSubclass():\n\u001b[0;32m-> 1437\u001b[0m     ret \u001b[38;5;241m=\u001b[39m \u001b[43mfunc\u001b[49m\u001b[43m(\u001b[49m\u001b[38;5;241;43m*\u001b[39;49m\u001b[43margs\u001b[49m\u001b[43m,\u001b[49m\u001b[43m \u001b[49m\u001b[38;5;241;43m*\u001b[39;49m\u001b[38;5;241;43m*\u001b[39;49m\u001b[43mkwargs\u001b[49m\u001b[43m)\u001b[49m\n\u001b[1;32m   1438\u001b[0m     \u001b[38;5;28;01mif\u001b[39;00m func \u001b[38;5;129;01min\u001b[39;00m get_default_nowrap_functions():\n\u001b[1;32m   1439\u001b[0m         \u001b[38;5;28;01mreturn\u001b[39;00m ret\n",
      "\u001b[0;31mRuntimeError\u001b[0m: Expected 3D (unbatched) or 4D (batched) input to conv2d, but got input of size: [1, 1, 1, 1024, 1024]"
     ]
    }
   ],
   "source": [
    "sign = SignFunction.apply\n",
    "out = model(valid_dataset[0].unsqueeze(0).unsqueeze(0))\n",
    "binary = sign(out, 0.5)\n",
    "sim = tt.simulate(binary, 2e-3)\n",
    "mean_sim = torch.mean(sim, dim=1, keepdim=True)"
   ]
  },
  {
   "cell_type": "code",
   "execution_count": null,
   "id": "6efb9d87-35cc-40ee-b130-2442d28d64e8",
   "metadata": {},
   "outputs": [],
   "source": [
    "for target in trainloader:\n",
    "    print(target.shape)\n",
    "    break"
   ]
  },
  {
   "cell_type": "code",
   "execution_count": null,
   "id": "abfe047d-0265-4d80-b53a-d168d993aac9",
   "metadata": {},
   "outputs": [],
   "source": [
    "target"
   ]
  },
  {
   "cell_type": "code",
   "execution_count": null,
   "id": "8367302d-9f37-4a40-81fe-5b5b2d448ee7",
   "metadata": {},
   "outputs": [],
   "source": [
    "mean_sim"
   ]
  },
  {
   "cell_type": "code",
   "execution_count": null,
   "id": "0a8a29eb-181b-4785-9c8b-e72601a553cc",
   "metadata": {},
   "outputs": [],
   "source": []
  }
 ],
 "metadata": {
  "kernelspec": {
   "display_name": "Python 3 (ipykernel)",
   "language": "python",
   "name": "python3"
  },
  "language_info": {
   "codemirror_mode": {
    "name": "ipython",
    "version": 3
   },
   "file_extension": ".py",
   "mimetype": "text/x-python",
   "name": "python",
   "nbconvert_exporter": "python",
   "pygments_lexer": "ipython3",
   "version": "3.8.10"
  }
 },
 "nbformat": 4,
 "nbformat_minor": 5
}

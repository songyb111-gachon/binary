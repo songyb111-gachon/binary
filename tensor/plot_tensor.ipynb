{
 "cells": [
  {
   "cell_type": "code",
   "execution_count": null,
   "id": "initial_id",
   "metadata": {
    "collapsed": true
   },
   "outputs": [],
   "source": [
    "import tensorflow as tf\n",
    "import pandas as pd\n",
    "import matplotlib.pyplot as plt\n",
    "import os\n",
    "\n",
    "# 같은 폴더에 있는 TensorBoard 로그 파일의 이름을 자동으로 검색\n",
    "log_dir = \"..\"  # 현재 폴더\n",
    "event_file = [f for f in os.listdir(log_dir) if f.startswith(\"events.out\")]\n",
    "\n",
    "if not event_file:\n",
    "    print(\"No TensorBoard event files found in the directory.\")\n",
    "else:\n",
    "    file_path = os.path.join(log_dir, event_file[0])  # 첫 번째 로그 파일 선택\n",
    "\n",
    "    # 데이터를 저장할 리스트\n",
    "    data = []\n",
    "\n",
    "    # TensorBoard 로그 파일 읽기\n",
    "    for event in tf.compat.v1.train.summary_iterator(file_path):\n",
    "        for value in event.summary.value:\n",
    "            if value.tag == \"rollout/ep_rew_mean\":  # Stable-Baselines의 에피소드 평균 리워드 태그\n",
    "                data.append((event.step, value.simple_value))\n",
    "\n",
    "    # 데이터를 DataFrame으로 변환\n",
    "    df = pd.DataFrame(data, columns=[\"Step\", \"ep_rew_mean\"])\n",
    "\n",
    "    # 그래프 그리기\n",
    "    if not df.empty:\n",
    "        plt.figure(figsize=(10, 6))\n",
    "        plt.plot(df[\"Step\"], df[\"ep_rew_mean\"], label=\"Episode Reward Mean\")\n",
    "        plt.xlabel(\"Step\")\n",
    "        plt.ylabel(\"Episode Reward Mean\")\n",
    "        plt.title(\"Episode Reward Mean over Training Steps\")\n",
    "        plt.legend()\n",
    "        plt.grid()\n",
    "        plt.show()\n",
    "    else:\n",
    "        print(\"No data found for the tag 'rollout/ep_rew_mean'.\")"
   ]
  }
 ],
 "metadata": {
  "kernelspec": {
   "display_name": "Python 3",
   "language": "python",
   "name": "python3"
  },
  "language_info": {
   "codemirror_mode": {
    "name": "ipython",
    "version": 2
   },
   "file_extension": ".py",
   "mimetype": "text/x-python",
   "name": "python",
   "nbconvert_exporter": "python",
   "pygments_lexer": "ipython2",
   "version": "2.7.6"
  }
 },
 "nbformat": 4,
 "nbformat_minor": 5
}

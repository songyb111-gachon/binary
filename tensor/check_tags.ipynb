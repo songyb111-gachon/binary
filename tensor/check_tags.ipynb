{
 "cells": [
  {
   "metadata": {},
   "cell_type": "code",
   "outputs": [],
   "execution_count": null,
   "source": [
    "import tensorflow as tf\n",
    "import pandas as pd\n",
    "import matplotlib.pyplot as plt\n",
    "import os\n",
    "\n",
    "# 같은 폴더에 있는 TensorBoard 로그 파일의 이름을 자동으로 검색\n",
    "log_dir = \".\"  # 현재 폴더\n",
    "event_files = [f for f in os.listdir(log_dir) if f.startswith(\"events.out\")]\n",
    "\n",
    "if not event_files:\n",
    "    print(\"No TensorBoard event files found in the directory.\")\n",
    "else:\n",
    "    file_path = os.path.join(log_dir, event_files[0])  # 첫 번째 로그 파일 선택\n",
    "\n",
    "# 고유 태그 저장\n",
    "unique_tags = set()\n",
    "\n",
    "# 로그 파일 읽기\n",
    "for event in tf.compat.v1.train.summary_iterator(file_path):\n",
    "    for value in event.summary.value:\n",
    "        unique_tags.add(value.tag)\n",
    "\n",
    "# 모든 태그 출력\n",
    "print(\"Unique Tags in the TensorBoard file:\")\n",
    "for tag in unique_tags:\n",
    "    print(tag)"
   ],
   "id": "5d04cb39eadbca10"
  }
 ],
 "metadata": {
  "kernelspec": {
   "display_name": "Python 3",
   "language": "python",
   "name": "python3"
  },
  "language_info": {
   "codemirror_mode": {
    "name": "ipython",
    "version": 2
   },
   "file_extension": ".py",
   "mimetype": "text/x-python",
   "name": "python",
   "nbconvert_exporter": "python",
   "pygments_lexer": "ipython2",
   "version": "2.7.6"
  }
 },
 "nbformat": 4,
 "nbformat_minor": 5
}
